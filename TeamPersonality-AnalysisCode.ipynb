{
  "nbformat": 4,
  "nbformat_minor": 0,
  "metadata": {
    "colab": {
      "provenance": [],
      "authorship_tag": "ABX9TyODIz40HMEnIcUZrs00H3FX",
      "include_colab_link": true
    },
    "kernelspec": {
      "name": "python3",
      "display_name": "Python 3"
    },
    "language_info": {
      "name": "python"
    }
  },
  "cells": [
    {
      "cell_type": "markdown",
      "metadata": {
        "id": "view-in-github",
        "colab_type": "text"
      },
      "source": [
        "<a href=\"https://colab.research.google.com/github/nghitct/AlgorithmSupportedInductionPersonality/blob/main/TeamPersonality-AnalysisCode.ipynb\" target=\"_parent\"><img src=\"https://colab.research.google.com/assets/colab-badge.svg\" alt=\"Open In Colab\"/></a>"
      ]
    },
    {
      "cell_type": "markdown",
      "source": [
        "Preparing ..."
      ],
      "metadata": {
        "id": "-WBE_a0lL39w"
      }
    },
    {
      "cell_type": "code",
      "source": [
        "# importing library\n",
        "import pandas as pd\n",
        "import numpy as np\n",
        "import statsmodels.api as sm\n",
        "from statsmodels.iolib.summary2 import summary_col\n",
        "import seaborn as sns\n",
        "import matplotlib.pyplot as plt\n",
        "import warnings\n",
        "warnings.filterwarnings('ignore')\n",
        "#warnings.filterwarnings(action='once')"
      ],
      "metadata": {
        "id": "jUh8PHIvqsX3"
      },
      "execution_count": 3,
      "outputs": []
    },
    {
      "cell_type": "markdown",
      "source": [
        "# Loading and checking data"
      ],
      "metadata": {
        "id": "8rKhLWVerH8U"
      }
    },
    {
      "cell_type": "markdown",
      "source": [
        "## Loading data and checking data size, variables' names"
      ],
      "metadata": {
        "id": "0rJQUWbMw-Jz"
      }
    },
    {
      "cell_type": "code",
      "source": [
        "# importing data\n",
        "dat1=pd.read_csv(\"Data 1 - full groups.csv\")\n",
        "dat2=pd.read_csv(\"Data 2 - full groups.csv\")"
      ],
      "metadata": {
        "id": "Kb4zfULvrkDg"
      },
      "execution_count": 4,
      "outputs": []
    },
    {
      "cell_type": "code",
      "source": [
        "# checking size of data\n",
        "print(dat1.shape)\n",
        "print(dat2.shape)"
      ],
      "metadata": {
        "colab": {
          "base_uri": "https://localhost:8080/"
        },
        "id": "6FpseXvcLYnq",
        "outputId": "28bbe448-15ed-468d-cfdc-d3373381ca49"
      },
      "execution_count": 5,
      "outputs": [
        {
          "output_type": "stream",
          "name": "stdout",
          "text": [
            "(636, 54)\n",
            "(116, 54)\n"
          ]
        }
      ]
    },
    {
      "cell_type": "code",
      "source": [
        "# printing columns' names of dat1 \n",
        "for col in dat1.columns:\n",
        "  print(col)"
      ],
      "metadata": {
        "colab": {
          "base_uri": "https://localhost:8080/"
        },
        "id": "BbcRZ9LNLeNj",
        "outputId": "a7983f57-ff55-4adb-cbe2-753b96e1aa7d"
      },
      "execution_count": 6,
      "outputs": [
        {
          "output_type": "stream",
          "name": "stdout",
          "text": [
            "GroupID\n",
            "emos_all_mean\n",
            "extr_all_mean\n",
            "open_all_mean\n",
            "agree_all_mean\n",
            "cons_all_mean\n",
            "emos_all_sd\n",
            "extr_all_sd\n",
            "open_all_sd\n",
            "agree_all_sd\n",
            "cons_all_sd\n",
            "emos_all_min\n",
            "extr_all_min\n",
            "open_all_min\n",
            "agree_all_min\n",
            "cons_all_min\n",
            "emos_all_max\n",
            "extr_all_max\n",
            "open_all_max\n",
            "agree_all_max\n",
            "cons_all_max\n",
            "gender_all_mean\n",
            "gender_all_sd\n",
            "size\n",
            "performance\n",
            "emos_exc_mean\n",
            "extr_exc_mean\n",
            "open_exc_mean\n",
            "agree_exc_mean\n",
            "cons_exc_mean\n",
            "emos_exc_sd\n",
            "extr_exc_sd\n",
            "open_exc_sd\n",
            "agree_exc_sd\n",
            "cons_exc_sd\n",
            "emos_exc_min\n",
            "extr_exc_min\n",
            "open_exc_min\n",
            "agree_exc_min\n",
            "cons_exc_min\n",
            "emos_exc_max\n",
            "extr_exc_max\n",
            "open_exc_max\n",
            "agree_exc_max\n",
            "cons_exc_max\n",
            "gender_exc_mean\n",
            "gender_exc_sd\n",
            "gender_leader\n",
            "emos_leader\n",
            "extr_leader\n",
            "open_leader\n",
            "agree_leader\n",
            "cons_leader\n",
            "size_all\n"
          ]
        }
      ]
    },
    {
      "cell_type": "code",
      "source": [
        "# printing columns' names of dat2 \n",
        "for col in dat2.columns:\n",
        "  print(col)"
      ],
      "metadata": {
        "colab": {
          "base_uri": "https://localhost:8080/"
        },
        "id": "pBEaSk4fLhFg",
        "outputId": "7630f0be-54af-44a2-93f6-ca7ea3710f5b"
      },
      "execution_count": 7,
      "outputs": [
        {
          "output_type": "stream",
          "name": "stdout",
          "text": [
            "teamid\n",
            "neur_all_mean\n",
            "extr_all_mean\n",
            "open_all_mean\n",
            "agree_all_mean\n",
            "cons_all_mean\n",
            "neur_all_sd\n",
            "extr_all_sd\n",
            "open_all_sd\n",
            "agree_all_sd\n",
            "cons_all_sd\n",
            "neur_all_min\n",
            "extr_all_min\n",
            "open_all_min\n",
            "agree_all_min\n",
            "cons_all_min\n",
            "neur_all_max\n",
            "extr_all_max\n",
            "open_all_max\n",
            "agree_all_max\n",
            "cons_all_max\n",
            "size\n",
            "performance\n",
            "gender_all_mean\n",
            "gender_all_sd\n",
            "neur_exc_mean\n",
            "extr_exc_mean\n",
            "open_exc_mean\n",
            "agree_exc_mean\n",
            "cons_exc_mean\n",
            "neur_exc_sd\n",
            "extr_exc_sd\n",
            "open_exc_sd\n",
            "agree_exc_sd\n",
            "cons_exc_sd\n",
            "neur_exc_min\n",
            "extr_exc_min\n",
            "open_exc_min\n",
            "agree_exc_min\n",
            "cons_exc_min\n",
            "neur_exc_max\n",
            "extr_exc_max\n",
            "open_exc_max\n",
            "agree_exc_max\n",
            "cons_exc_max\n",
            "gender_exc_mean\n",
            "gender_exc_sd\n",
            "gender_leader\n",
            "open_leader\n",
            "cons_leader\n",
            "extr_leader\n",
            "agree_leader\n",
            "neur_leader\n",
            "size_all\n"
          ]
        }
      ]
    },
    {
      "cell_type": "markdown",
      "source": [
        "## Descriptive Analysis"
      ],
      "metadata": {
        "id": "q5gVSKPOxJQI"
      }
    },
    {
      "cell_type": "markdown",
      "source": [
        "### Dependent Variable: Team Performance"
      ],
      "metadata": {
        "id": "JzZtr9fpxOxn"
      }
    },
    {
      "cell_type": "code",
      "source": [
        "#load variables\n",
        "x1=dat1['performance']\n",
        "x2=dat2['performance']\n",
        "\n",
        "#define subplots\n",
        "f, axs = plt.subplots(2,2,gridspec_kw={'height_ratios': [1, 5]})\n",
        "\n",
        "#draw the first subplot (include a boxplot and a histogram)\n",
        "sns.boxplot(x1, ax=axs[0,0])\n",
        "sns.distplot(x1, ax=axs[1,0])\n",
        "axs[0,0].set(xlabel='',yticks=[])\n",
        "sns.despine(ax=axs[1,0])\n",
        "sns.despine(ax=axs[0,0], left=True)\n",
        "axs[0,0].set_title(\"Performance in Data 1\")\n",
        "\n",
        "#draw the second subplot (include a boxplot and a histogram)\n",
        "sns.boxplot(x2, ax=axs[0,1])\n",
        "sns.distplot(x2, ax=axs[1,1])\n",
        "axs[0,1].set(xlabel='',yticks=[])\n",
        "sns.despine(ax=axs[1,1])\n",
        "sns.despine(ax=axs[0,1], left=True)\n",
        "axs[0,1].set_title(\"Performance in Data 2\")\n"
      ],
      "metadata": {
        "colab": {
          "base_uri": "https://localhost:8080/",
          "height": 312
        },
        "id": "H3zAQI2VxNoJ",
        "outputId": "6a90eee8-ac3b-4d94-b3b3-46e99c3add5b"
      },
      "execution_count": 12,
      "outputs": [
        {
          "output_type": "execute_result",
          "data": {
            "text/plain": [
              "Text(0.5, 1.0, 'Performance in Data 2')"
            ]
          },
          "metadata": {},
          "execution_count": 12
        },
        {
          "output_type": "display_data",
          "data": {
            "text/plain": [
              "<Figure size 432x288 with 4 Axes>"
            ],
            "image/png": "[encoded data removed]"
          },
          "metadata": {
            "needs_background": "light"
          }
        }
      ]
    },
    {
      "cell_type": "markdown",
      "source": [
        "### Team's Mean variables "
      ],
      "metadata": {
        "id": "rBsA2FMT_Kp5"
      }
    },
    {
      "cell_type": "code",
      "source": [
        "var_set=[range(1,6),range(6,11),range(11,16),range(16,21),range(25,30),range(30,35),range(35,40),range(40,45),range(48,53)]\n",
        "\n",
        "for var in var_set:\n",
        "  #define subplots\n",
        "  f, axs = plt.subplots(2,len(var),figsize=(12,6),gridspec_kw={'height_ratios': [1, 5]})\n",
        "  k=0\n",
        "  for j in var:\n",
        "    x=dat1[dat1.columns[j]]\n",
        "    sns.boxplot(x, ax=axs[0,k])\n",
        "    sns.distplot(x, ax=axs[1,k])\n",
        "    axs[0,k].set(xlabel='',yticks=[])\n",
        "    if k>0 :\n",
        "      axs[1,k].set(ylabel='')\n",
        "    sns.despine(ax=axs[1,k])\n",
        "    sns.despine(ax=axs[0,k], left=True)\n",
        "    #axs[0,k].set_title(dat1.columns[j])\n",
        "    k=k+1\n"
      ],
      "metadata": {
        "colab": {
          "base_uri": "https://localhost:8080/",
          "height": 1000
        },
        "id": "83svWjFRBVmz",
        "outputId": "2cd5de85-d692-4b25-e375-dbb6850059af"
      },
      "execution_count": 37,
      "outputs": [
        {
          "output_type": "display_data",
          "data": {
            "text/plain": [
              "<Figure size 864x432 with 10 Axes>"
            ],
            "image/png": "[encoded data removed]"
          },
          "metadata": {
            "needs_background": "light"
          }
        },
        {
          "output_type": "display_data",
          "data": {
            "text/plain": [
              "<Figure size 864x432 with 10 Axes>"
            ],
            "image/png": "[encoded data removed]"
          },
          "metadata": {
            "needs_background": "light"
          }
        },
        {
          "output_type": "display_data",
          "data": {
            "text/plain": [
              "<Figure size 864x432 with 10 Axes>"
            ],
            "image/png": "[encoded data removed]"
          },
          "metadata": {
            "needs_background": "light"
          }
        },
        {
          "output_type": "display_data",
          "data": {
            "text/plain": [
              "<Figure size 864x432 with 10 Axes>"
            ],
            "image/png": "[encoded data removed]"
          },
          "metadata": {
            "needs_background": "light"
          }
        },
        {
          "output_type": "display_data",
          "data": {
            "text/plain": [
              "<Figure size 864x432 with 10 Axes>"
            ],
            "image/png": "[encoded data removed]"
          },
          "metadata": {
            "needs_background": "light"
          }
        },
        {
          "output_type": "display_data",
          "data": {
            "text/plain": [
              "<Figure size 864x432 with 10 Axes>"
            ],
            "image/png": "[encoded data removed]"
          },
          "metadata": {
            "needs_background": "light"
          }
        },
        {
          "output_type": "display_data",
          "data": {
            "text/plain": [
              "<Figure size 864x432 with 10 Axes>"
            ],
            "image/png": "[encoded data removed]"
          },
          "metadata": {
            "needs_background": "light"
          }
        },
        {
          "output_type": "display_data",
          "data": {
            "text/plain": [
              "<Figure size 864x432 with 10 Axes>"
            ],
            "image/png": "[encoded data removed]"
          },
          "metadata": {
            "needs_background": "light"
          }
        },
        {
          "output_type": "display_data",
          "data": {
            "text/plain": [
              "<Figure size 864x432 with 10 Axes>"
            ],
            "image/png": "[encoded data removed]"
          },
          "metadata": {
            "needs_background": "light"
          }
        }
      ]
    },
    {
      "cell_type": "markdown",
      "source": [
        "### Mean variables"
      ],
      "metadata": {
        "id": "7DMNU2s5xor9"
      }
    },
    {
      "cell_type": "code",
      "source": [
        "x=dat1['performance']\n",
        "f, (ax_box, ax_hist) = plt.subplots(2, sharex=True, gridspec_kw={\"height_ratios\": (.15, .85)})\n",
        "\n",
        "sns.boxplot(x=x, ax=ax_box)\n",
        "sns.histplot(x=x, bins=12, kde=True, stat='density', ax=ax_hist)\n",
        "\n",
        "ax_box.set(yticks=[])\n",
        "sns.despine(ax=ax_hist)\n",
        "sns.despine(ax=ax_box, left=True)"
      ],
      "metadata": {
        "id": "i8MSKlr6xnUp"
      },
      "execution_count": null,
      "outputs": []
    },
    {
      "cell_type": "markdown",
      "source": [
        "# Replicating common findings in the literature\n",
        "## Summary of findings in the literature (based on 3 review papers)\n",
        "* Peeters et al (2006): \n",
        "  + Extraversion: no relationship\n",
        "  + Agreeableness: mean positively related to performance\n",
        "  + Conscientiousness: (a) mean positively related to performance but the effect disappears in student teams (disappers whhen project periods are short); (b) variance negatively related to performance. \n",
        "  + Emotional stability: (a) mean; and (b) variance negatively related to performance for student teams (weak relationship).\n",
        "  + Openness to experience: no effect.\n",
        "\n",
        "* Prewett et al (2008):\n",
        "  + Hypotheses:\n",
        "    - Conscientiousness, Agreeableness & Emotional Stability: (a) mean; (b) minimum will positively relate to performance; (c) variance will negatively relate to performance.\n",
        "    - Extraversion: (a) min will negatively relate to performance; (b) variance will positively relate performance.\n",
        "\n",
        "  + Findings:\n",
        "    - Conscientiousness: mean and min positively correlated with performance (the \"weak link\" metaphor).\n",
        "    - Extraversion: mean and max strongly correlated with performance; variance weakly correlated.\n",
        "    - Agreeableness: mean and min positively correlated with performance; variance negatively correlated.\n",
        "    - Emotional Stability: mean and max strongly correlated with performance.\n",
        "\n",
        "* Carter et al (2019): \n",
        "  + Agreeableness, emotional stability, extraversion and openness to experience: mean positively correlated with performance; variance does not have any significant relationships. \n"
      ],
      "metadata": {
        "id": "rAwfDnOxr6Q8"
      }
    },
    {
      "cell_type": "markdown",
      "source": [
        "## Using Data 1"
      ],
      "metadata": {
        "id": "_s94VSU9MCHW"
      }
    },
    {
      "cell_type": "markdown",
      "source": [
        "### Running linear regression with one single personality trait variable as predictor"
      ],
      "metadata": {
        "id": "UtRZO5wEU5-0"
      }
    },
    {
      "cell_type": "code",
      "source": [
        "#define response variable\n",
        "y = dat1['performance']\n",
        "#create empty result dataframe\n",
        "results1_1=pd.DataFrame(columns = ['Var','Coef','p-value'])\n",
        "for i in range(1,20,1):\n",
        "  #define predictor variables\n",
        "  x=dat1[dat1.columns[i]]\n",
        "  #add constant to predictor variables\n",
        "  x = sm.add_constant(x)  \n",
        "  #fit linear regression model\n",
        "  model = sm.OLS(y, x).fit()\n",
        "  results1_1 = results1_1.append({'Var':dat1.columns[i],'Coef':model.params[1],'p-value':model.pvalues[1]},ignore_index = True)"
      ],
      "metadata": {
        "id": "xl5xaVVosP44"
      },
      "execution_count": null,
      "outputs": []
    },
    {
      "cell_type": "code",
      "source": [
        "results1_1"
      ],
      "metadata": {
        "colab": {
          "base_uri": "https://localhost:8080/",
          "height": 645
        },
        "id": "Hvm_Srk7Y6Gw",
        "outputId": "6c9b7495-3a50-47bf-82ea-c7e464e7579a"
      },
      "execution_count": 86,
      "outputs": [
        {
          "output_type": "execute_result",
          "data": {
            "text/plain": [
              "               Var      Coef   p-value\n",
              "0    emos_all_mean -1.106666  0.385189\n",
              "1    extr_all_mean  1.503898  0.268217\n",
              "2    open_all_mean  0.967587  0.474233\n",
              "3   agree_all_mean  0.759378  0.565698\n",
              "4    cons_all_mean -2.068732  0.094960\n",
              "5      emos_all_sd  2.872280  0.061830\n",
              "6      extr_all_sd -2.009657  0.203118\n",
              "7      open_all_sd -3.928706  0.032075\n",
              "8     agree_all_sd -2.049789  0.206459\n",
              "9      cons_all_sd -2.533428  0.140505\n",
              "10    emos_all_min -1.456218  0.101832\n",
              "11    extr_all_min  0.501919  0.513399\n",
              "12    open_all_min  2.023122  0.022900\n",
              "13   agree_all_min  0.894070  0.257647\n",
              "14    cons_all_min -0.321290  0.695197\n",
              "15    emos_all_max  0.783459  0.298455\n",
              "16    extr_all_max -0.764752  0.422176\n",
              "17    open_all_max -0.382200  0.682651\n",
              "18   agree_all_max -0.558916  0.533100"
            ],
            "text/html": [
              "\n",
              "  <div id=\"df-158d6cab-a9ab-424e-b162-bc1abb7bb22c\">\n",
              "    <div class=\"colab-df-container\">\n",
              "      <div>\n",
              "<style scoped>\n",
              "    .dataframe tbody tr th:only-of-type {\n",
              "        vertical-align: middle;\n",
              "    }\n",
              "\n",
              "    .dataframe tbody tr th {\n",
              "        vertical-align: top;\n",
              "    }\n",
              "\n",
              "    .dataframe thead th {\n",
              "        text-align: right;\n",
              "    }\n",
              "</style>\n",
              "<table border=\"1\" class=\"dataframe\">\n",
              "  <thead>\n",
              "    <tr style=\"text-align: right;\">\n",
              "      <th></th>\n",
              "      <th>Var</th>\n",
              "      <th>Coef</th>\n",
              "      <th>p-value</th>\n",
              "    </tr>\n",
              "  </thead>\n",
              "  <tbody>\n",
              "    <tr>\n",
              "      <th>0</th>\n",
              "      <td>emos_all_mean</td>\n",
              "      <td>-1.106666</td>\n",
              "      <td>0.385189</td>\n",
              "    </tr>\n",
              "    <tr>\n",
              "      <th>1</th>\n",
              "      <td>extr_all_mean</td>\n",
              "      <td>1.503898</td>\n",
              "      <td>0.268217</td>\n",
              "    </tr>\n",
              "    <tr>\n",
              "      <th>2</th>\n",
              "      <td>open_all_mean</td>\n",
              "      <td>0.967587</td>\n",
              "      <td>0.474233</td>\n",
              "    </tr>\n",
              "    <tr>\n",
              "      <th>3</th>\n",
              "      <td>agree_all_mean</td>\n",
              "      <td>0.759378</td>\n",
              "      <td>0.565698</td>\n",
              "    </tr>\n",
              "    <tr>\n",
              "      <th>4</th>\n",
              "      <td>cons_all_mean</td>\n",
              "      <td>-2.068732</td>\n",
              "      <td>0.094960</td>\n",
              "    </tr>\n",
              "    <tr>\n",
              "      <th>5</th>\n",
              "      <td>emos_all_sd</td>\n",
              "      <td>2.872280</td>\n",
              "      <td>0.061830</td>\n",
              "    </tr>\n",
              "    <tr>\n",
              "      <th>6</th>\n",
              "      <td>extr_all_sd</td>\n",
              "      <td>-2.009657</td>\n",
              "      <td>0.203118</td>\n",
              "    </tr>\n",
              "    <tr>\n",
              "      <th>7</th>\n",
              "      <td>open_all_sd</td>\n",
              "      <td>-3.928706</td>\n",
              "      <td>0.032075</td>\n",
              "    </tr>\n",
              "    <tr>\n",
              "      <th>8</th>\n",
              "      <td>agree_all_sd</td>\n",
              "      <td>-2.049789</td>\n",
              "      <td>0.206459</td>\n",
              "    </tr>\n",
              "    <tr>\n",
              "      <th>9</th>\n",
              "      <td>cons_all_sd</td>\n",
              "      <td>-2.533428</td>\n",
              "      <td>0.140505</td>\n",
              "    </tr>\n",
              "    <tr>\n",
              "      <th>10</th>\n",
              "      <td>emos_all_min</td>\n",
              "      <td>-1.456218</td>\n",
              "      <td>0.101832</td>\n",
              "    </tr>\n",
              "    <tr>\n",
              "      <th>11</th>\n",
              "      <td>extr_all_min</td>\n",
              "      <td>0.501919</td>\n",
              "      <td>0.513399</td>\n",
              "    </tr>\n",
              "    <tr>\n",
              "      <th>12</th>\n",
              "      <td>open_all_min</td>\n",
              "      <td>2.023122</td>\n",
              "      <td>0.022900</td>\n",
              "    </tr>\n",
              "    <tr>\n",
              "      <th>13</th>\n",
              "      <td>agree_all_min</td>\n",
              "      <td>0.894070</td>\n",
              "      <td>0.257647</td>\n",
              "    </tr>\n",
              "    <tr>\n",
              "      <th>14</th>\n",
              "      <td>cons_all_min</td>\n",
              "      <td>-0.321290</td>\n",
              "      <td>0.695197</td>\n",
              "    </tr>\n",
              "    <tr>\n",
              "      <th>15</th>\n",
              "      <td>emos_all_max</td>\n",
              "      <td>0.783459</td>\n",
              "      <td>0.298455</td>\n",
              "    </tr>\n",
              "    <tr>\n",
              "      <th>16</th>\n",
              "      <td>extr_all_max</td>\n",
              "      <td>-0.764752</td>\n",
              "      <td>0.422176</td>\n",
              "    </tr>\n",
              "    <tr>\n",
              "      <th>17</th>\n",
              "      <td>open_all_max</td>\n",
              "      <td>-0.382200</td>\n",
              "      <td>0.682651</td>\n",
              "    </tr>\n",
              "    <tr>\n",
              "      <th>18</th>\n",
              "      <td>agree_all_max</td>\n",
              "      <td>-0.558916</td>\n",
              "      <td>0.533100</td>\n",
              "    </tr>\n",
              "  </tbody>\n",
              "</table>\n",
              "</div>\n",
              "      <button class=\"colab-df-convert\" onclick=\"convertToInteractive('df-158d6cab-a9ab-424e-b162-bc1abb7bb22c')\"\n",
              "              title=\"Convert this dataframe to an interactive table.\"\n",
              "              style=\"display:none;\">\n",
              "        \n",
              "  <svg xmlns=\"http://www.w3.org/2000/svg\" height=\"24px\"viewBox=\"0 0 24 24\"\n",
              "       width=\"24px\">\n",
              "    <path d=\"M0 0h24v24H0V0z\" fill=\"none\"/>\n",
              "    <path d=\"M18.56 5.44l.94 2.06.94-2.06 2.06-.94-2.06-.94-.94-2.06-.94 2.06-2.06.94zm-11 1L8.5 8.5l.94-2.06 2.06-.94-2.06-.94L8.5 2.5l-.94 2.06-2.06.94zm10 10l.94 2.06.94-2.06 2.06-.94-2.06-.94-.94-2.06-.94 2.06-2.06.94z\"/><path d=\"M17.41 7.96l-1.37-1.37c-.4-.4-.92-.59-1.43-.59-.52 0-1.04.2-1.43.59L10.3 9.45l-7.72 7.72c-.78.78-.78 2.05 0 2.83L4 21.41c.39.39.9.59 1.41.59.51 0 1.02-.2 1.41-.59l7.78-7.78 2.81-2.81c.8-.78.8-2.07 0-2.86zM5.41 20L4 18.59l7.72-7.72 1.47 1.35L5.41 20z\"/>\n",
              "  </svg>\n",
              "      </button>\n",
              "      \n",
              "  <style>\n",
              "    .colab-df-container {\n",
              "      display:flex;\n",
              "      flex-wrap:wrap;\n",
              "      gap: 12px;\n",
              "    }\n",
              "\n",
              "    .colab-df-convert {\n",
              "      background-color: #E8F0FE;\n",
              "      border: none;\n",
              "      border-radius: 50%;\n",
              "      cursor: pointer;\n",
              "      display: none;\n",
              "      fill: #1967D2;\n",
              "      height: 32px;\n",
              "      padding: 0 0 0 0;\n",
              "      width: 32px;\n",
              "    }\n",
              "\n",
              "    .colab-df-convert:hover {\n",
              "      background-color: #E2EBFA;\n",
              "      box-shadow: 0px 1px 2px rgba(60, 64, 67, 0.3), 0px 1px 3px 1px rgba(60, 64, 67, 0.15);\n",
              "      fill: #174EA6;\n",
              "    }\n",
              "\n",
              "    [theme=dark] .colab-df-convert {\n",
              "      background-color: #3B4455;\n",
              "      fill: #D2E3FC;\n",
              "    }\n",
              "\n",
              "    [theme=dark] .colab-df-convert:hover {\n",
              "      background-color: #434B5C;\n",
              "      box-shadow: 0px 1px 3px 1px rgba(0, 0, 0, 0.15);\n",
              "      filter: drop-shadow(0px 1px 2px rgba(0, 0, 0, 0.3));\n",
              "      fill: #FFFFFF;\n",
              "    }\n",
              "  </style>\n",
              "\n",
              "      <script>\n",
              "        const buttonEl =\n",
              "          document.querySelector('#df-158d6cab-a9ab-424e-b162-bc1abb7bb22c button.colab-df-convert');\n",
              "        buttonEl.style.display =\n",
              "          google.colab.kernel.accessAllowed ? 'block' : 'none';\n",
              "\n",
              "        async function convertToInteractive(key) {\n",
              "          const element = document.querySelector('#df-158d6cab-a9ab-424e-b162-bc1abb7bb22c');\n",
              "          const dataTable =\n",
              "            await google.colab.kernel.invokeFunction('convertToInteractive',\n",
              "                                                     [key], {});\n",
              "          if (!dataTable) return;\n",
              "\n",
              "          const docLinkHtml = 'Like what you see? Visit the ' +\n",
              "            '<a target=\"_blank\" href=https://colab.research.google.com/notebooks/data_table.ipynb>data table notebook</a>'\n",
              "            + ' to learn more about interactive tables.';\n",
              "          element.innerHTML = '';\n",
              "          dataTable['output_type'] = 'display_data';\n",
              "          await google.colab.output.renderOutput(dataTable, element);\n",
              "          const docLink = document.createElement('div');\n",
              "          docLink.innerHTML = docLinkHtml;\n",
              "          element.appendChild(docLink);\n",
              "        }\n",
              "      </script>\n",
              "    </div>\n",
              "  </div>\n",
              "  "
            ]
          },
          "metadata": {},
          "execution_count": 86
        }
      ]
    },
    {
      "cell_type": "markdown",
      "source": [
        "Results:\n",
        "* Aggregation method: mean\n",
        "  + Conscientiouness: negative correlation, significant at 10%. \n",
        "* Aggregation method: variance\n",
        "  + Emotional Stability: positive correlation, significant at 10% (p-value=0.06).\n",
        "  + Openness to experience: negative correlation, significant at 5% (p-value=0.03).\n",
        "* Aggregation method: min\n",
        "  + Oppenness to experience: positive correlation, significant at 5% (p-value=0.02)."
      ],
      "metadata": {
        "id": "p9afDEphU2xH"
      }
    },
    {
      "cell_type": "markdown",
      "source": [
        "### Running linear regressions with multiple personality trait variables"
      ],
      "metadata": {
        "id": "klIlo6kGWiNB"
      }
    },
    {
      "cell_type": "markdown",
      "source": [
        "#### Including all means"
      ],
      "metadata": {
        "id": "ctHo93yPXRkc"
      }
    },
    {
      "cell_type": "code",
      "source": [
        "#define response variable\n",
        "y = dat1['performance']\n",
        "#define predictor variables\n",
        "x=dat1[dat1.columns[1:6]]\n",
        "#add constant to predictor variables\n",
        "x = sm.add_constant(x)\n",
        "#fit linear regression model\n",
        "model = sm.OLS(y, x).fit()\n",
        "results1_2 = pd.DataFrame({'Coef':model.params[1:6],'p-value':model.pvalues[1:6]})"
      ],
      "metadata": {
        "id": "JhT0DWUwW3vR"
      },
      "execution_count": null,
      "outputs": []
    },
    {
      "cell_type": "code",
      "source": [
        "results1_2"
      ],
      "metadata": {
        "colab": {
          "base_uri": "https://localhost:8080/",
          "height": 206
        },
        "id": "GfzaX5E0Y-Nu",
        "outputId": "7eda33f3-27da-4d44-c0a5-a6028ed3c238"
      },
      "execution_count": 65,
      "outputs": [
        {
          "output_type": "execute_result",
          "data": {
            "text/plain": [
              "                           Var      Coef   p-value\n",
              "emos_all_mean    emos_all_mean -0.951645  0.460905\n",
              "extr_all_mean    extr_all_mean  1.241438  0.364943\n",
              "open_all_mean    open_all_mean  0.732595  0.595285\n",
              "agree_all_mean  agree_all_mean  0.553362  0.682097\n",
              "cons_all_mean    cons_all_mean -1.724944  0.173725"
            ],
            "text/html": [
              "\n",
              "  <div id=\"df-21b85ff8-a44f-4bdb-a17d-0475e7bd2632\">\n",
              "    <div class=\"colab-df-container\">\n",
              "      <div>\n",
              "<style scoped>\n",
              "    .dataframe tbody tr th:only-of-type {\n",
              "        vertical-align: middle;\n",
              "    }\n",
              "\n",
              "    .dataframe tbody tr th {\n",
              "        vertical-align: top;\n",
              "    }\n",
              "\n",
              "    .dataframe thead th {\n",
              "        text-align: right;\n",
              "    }\n",
              "</style>\n",
              "<table border=\"1\" class=\"dataframe\">\n",
              "  <thead>\n",
              "    <tr style=\"text-align: right;\">\n",
              "      <th></th>\n",
              "      <th>Var</th>\n",
              "      <th>Coef</th>\n",
              "      <th>p-value</th>\n",
              "    </tr>\n",
              "  </thead>\n",
              "  <tbody>\n",
              "    <tr>\n",
              "      <th>emos_all_mean</th>\n",
              "      <td>emos_all_mean</td>\n",
              "      <td>-0.951645</td>\n",
              "      <td>0.460905</td>\n",
              "    </tr>\n",
              "    <tr>\n",
              "      <th>extr_all_mean</th>\n",
              "      <td>extr_all_mean</td>\n",
              "      <td>1.241438</td>\n",
              "      <td>0.364943</td>\n",
              "    </tr>\n",
              "    <tr>\n",
              "      <th>open_all_mean</th>\n",
              "      <td>open_all_mean</td>\n",
              "      <td>0.732595</td>\n",
              "      <td>0.595285</td>\n",
              "    </tr>\n",
              "    <tr>\n",
              "      <th>agree_all_mean</th>\n",
              "      <td>agree_all_mean</td>\n",
              "      <td>0.553362</td>\n",
              "      <td>0.682097</td>\n",
              "    </tr>\n",
              "    <tr>\n",
              "      <th>cons_all_mean</th>\n",
              "      <td>cons_all_mean</td>\n",
              "      <td>-1.724944</td>\n",
              "      <td>0.173725</td>\n",
              "    </tr>\n",
              "  </tbody>\n",
              "</table>\n",
              "</div>\n",
              "      <button class=\"colab-df-convert\" onclick=\"convertToInteractive('df-21b85ff8-a44f-4bdb-a17d-0475e7bd2632')\"\n",
              "              title=\"Convert this dataframe to an interactive table.\"\n",
              "              style=\"display:none;\">\n",
              "        \n",
              "  <svg xmlns=\"http://www.w3.org/2000/svg\" height=\"24px\"viewBox=\"0 0 24 24\"\n",
              "       width=\"24px\">\n",
              "    <path d=\"M0 0h24v24H0V0z\" fill=\"none\"/>\n",
              "    <path d=\"M18.56 5.44l.94 2.06.94-2.06 2.06-.94-2.06-.94-.94-2.06-.94 2.06-2.06.94zm-11 1L8.5 8.5l.94-2.06 2.06-.94-2.06-.94L8.5 2.5l-.94 2.06-2.06.94zm10 10l.94 2.06.94-2.06 2.06-.94-2.06-.94-.94-2.06-.94 2.06-2.06.94z\"/><path d=\"M17.41 7.96l-1.37-1.37c-.4-.4-.92-.59-1.43-.59-.52 0-1.04.2-1.43.59L10.3 9.45l-7.72 7.72c-.78.78-.78 2.05 0 2.83L4 21.41c.39.39.9.59 1.41.59.51 0 1.02-.2 1.41-.59l7.78-7.78 2.81-2.81c.8-.78.8-2.07 0-2.86zM5.41 20L4 18.59l7.72-7.72 1.47 1.35L5.41 20z\"/>\n",
              "  </svg>\n",
              "      </button>\n",
              "      \n",
              "  <style>\n",
              "    .colab-df-container {\n",
              "      display:flex;\n",
              "      flex-wrap:wrap;\n",
              "      gap: 12px;\n",
              "    }\n",
              "\n",
              "    .colab-df-convert {\n",
              "      background-color: #E8F0FE;\n",
              "      border: none;\n",
              "      border-radius: 50%;\n",
              "      cursor: pointer;\n",
              "      display: none;\n",
              "      fill: #1967D2;\n",
              "      height: 32px;\n",
              "      padding: 0 0 0 0;\n",
              "      width: 32px;\n",
              "    }\n",
              "\n",
              "    .colab-df-convert:hover {\n",
              "      background-color: #E2EBFA;\n",
              "      box-shadow: 0px 1px 2px rgba(60, 64, 67, 0.3), 0px 1px 3px 1px rgba(60, 64, 67, 0.15);\n",
              "      fill: #174EA6;\n",
              "    }\n",
              "\n",
              "    [theme=dark] .colab-df-convert {\n",
              "      background-color: #3B4455;\n",
              "      fill: #D2E3FC;\n",
              "    }\n",
              "\n",
              "    [theme=dark] .colab-df-convert:hover {\n",
              "      background-color: #434B5C;\n",
              "      box-shadow: 0px 1px 3px 1px rgba(0, 0, 0, 0.15);\n",
              "      filter: drop-shadow(0px 1px 2px rgba(0, 0, 0, 0.3));\n",
              "      fill: #FFFFFF;\n",
              "    }\n",
              "  </style>\n",
              "\n",
              "      <script>\n",
              "        const buttonEl =\n",
              "          document.querySelector('#df-21b85ff8-a44f-4bdb-a17d-0475e7bd2632 button.colab-df-convert');\n",
              "        buttonEl.style.display =\n",
              "          google.colab.kernel.accessAllowed ? 'block' : 'none';\n",
              "\n",
              "        async function convertToInteractive(key) {\n",
              "          const element = document.querySelector('#df-21b85ff8-a44f-4bdb-a17d-0475e7bd2632');\n",
              "          const dataTable =\n",
              "            await google.colab.kernel.invokeFunction('convertToInteractive',\n",
              "                                                     [key], {});\n",
              "          if (!dataTable) return;\n",
              "\n",
              "          const docLinkHtml = 'Like what you see? Visit the ' +\n",
              "            '<a target=\"_blank\" href=https://colab.research.google.com/notebooks/data_table.ipynb>data table notebook</a>'\n",
              "            + ' to learn more about interactive tables.';\n",
              "          element.innerHTML = '';\n",
              "          dataTable['output_type'] = 'display_data';\n",
              "          await google.colab.output.renderOutput(dataTable, element);\n",
              "          const docLink = document.createElement('div');\n",
              "          docLink.innerHTML = docLinkHtml;\n",
              "          element.appendChild(docLink);\n",
              "        }\n",
              "      </script>\n",
              "    </div>\n",
              "  </div>\n",
              "  "
            ]
          },
          "metadata": {},
          "execution_count": 65
        }
      ]
    },
    {
      "cell_type": "markdown",
      "source": [
        "Results: \n",
        "* No significant results"
      ],
      "metadata": {
        "id": "TaK4zigYZBG0"
      }
    },
    {
      "cell_type": "markdown",
      "source": [
        "#### Including all variance variables "
      ],
      "metadata": {
        "id": "Gq6nMC2kZMFc"
      }
    },
    {
      "cell_type": "code",
      "source": [
        "#define response variable\n",
        "y = dat1['performance']\n",
        "#define predictor variables\n",
        "x=dat1[dat1.columns[6:11]]\n",
        "#add constant to predictor variables\n",
        "x = sm.add_constant(x)\n",
        "#fit linear regression model\n",
        "model = sm.OLS(y, x).fit()\n",
        "results1_3 = pd.DataFrame({'Coef':model.params[1:6],'p-value':model.pvalues[1:6]})"
      ],
      "metadata": {
        "colab": {
          "base_uri": "https://localhost:8080/"
        },
        "id": "CzbeUAJVZKpr",
        "outputId": "3c90df24-2816-427c-f1f2-7e43ca09fcfd"
      },
      "execution_count": 68,
      "outputs": [
        {
          "output_type": "stream",
          "name": "stderr",
          "text": [
            "/usr/local/lib/python3.8/dist-packages/statsmodels/tsa/tsatools.py:142: FutureWarning: In a future version of pandas all arguments of concat except for the argument 'objs' will be keyword-only\n",
            "  x = pd.concat(x[::order], 1)\n"
          ]
        }
      ]
    },
    {
      "cell_type": "code",
      "source": [
        "results1_3"
      ],
      "metadata": {
        "colab": {
          "base_uri": "https://localhost:8080/",
          "height": 206
        },
        "id": "QtibKmorZWzn",
        "outputId": "b7fad4c7-7e23-4148-c49b-ba87c38b46c0"
      },
      "execution_count": 69,
      "outputs": [
        {
          "output_type": "execute_result",
          "data": {
            "text/plain": [
              "                         Var      Coef   p-value\n",
              "emos_all_sd    emos_all_mean  3.181019  0.038786\n",
              "extr_all_sd    extr_all_mean -2.012262  0.202183\n",
              "open_all_sd    open_all_mean -3.704919  0.043224\n",
              "agree_all_sd  agree_all_mean -1.741296  0.283105\n",
              "cons_all_sd    cons_all_mean -2.669097  0.121371"
            ],
            "text/html": [
              "\n",
              "  <div id=\"df-5ed54cc4-c3c0-4eab-8c5a-e76d9216d412\">\n",
              "    <div class=\"colab-df-container\">\n",
              "      <div>\n",
              "<style scoped>\n",
              "    .dataframe tbody tr th:only-of-type {\n",
              "        vertical-align: middle;\n",
              "    }\n",
              "\n",
              "    .dataframe tbody tr th {\n",
              "        vertical-align: top;\n",
              "    }\n",
              "\n",
              "    .dataframe thead th {\n",
              "        text-align: right;\n",
              "    }\n",
              "</style>\n",
              "<table border=\"1\" class=\"dataframe\">\n",
              "  <thead>\n",
              "    <tr style=\"text-align: right;\">\n",
              "      <th></th>\n",
              "      <th>Var</th>\n",
              "      <th>Coef</th>\n",
              "      <th>p-value</th>\n",
              "    </tr>\n",
              "  </thead>\n",
              "  <tbody>\n",
              "    <tr>\n",
              "      <th>emos_all_sd</th>\n",
              "      <td>emos_all_mean</td>\n",
              "      <td>3.181019</td>\n",
              "      <td>0.038786</td>\n",
              "    </tr>\n",
              "    <tr>\n",
              "      <th>extr_all_sd</th>\n",
              "      <td>extr_all_mean</td>\n",
              "      <td>-2.012262</td>\n",
              "      <td>0.202183</td>\n",
              "    </tr>\n",
              "    <tr>\n",
              "      <th>open_all_sd</th>\n",
              "      <td>open_all_mean</td>\n",
              "      <td>-3.704919</td>\n",
              "      <td>0.043224</td>\n",
              "    </tr>\n",
              "    <tr>\n",
              "      <th>agree_all_sd</th>\n",
              "      <td>agree_all_mean</td>\n",
              "      <td>-1.741296</td>\n",
              "      <td>0.283105</td>\n",
              "    </tr>\n",
              "    <tr>\n",
              "      <th>cons_all_sd</th>\n",
              "      <td>cons_all_mean</td>\n",
              "      <td>-2.669097</td>\n",
              "      <td>0.121371</td>\n",
              "    </tr>\n",
              "  </tbody>\n",
              "</table>\n",
              "</div>\n",
              "      <button class=\"colab-df-convert\" onclick=\"convertToInteractive('df-5ed54cc4-c3c0-4eab-8c5a-e76d9216d412')\"\n",
              "              title=\"Convert this dataframe to an interactive table.\"\n",
              "              style=\"display:none;\">\n",
              "        \n",
              "  <svg xmlns=\"http://www.w3.org/2000/svg\" height=\"24px\"viewBox=\"0 0 24 24\"\n",
              "       width=\"24px\">\n",
              "    <path d=\"M0 0h24v24H0V0z\" fill=\"none\"/>\n",
              "    <path d=\"M18.56 5.44l.94 2.06.94-2.06 2.06-.94-2.06-.94-.94-2.06-.94 2.06-2.06.94zm-11 1L8.5 8.5l.94-2.06 2.06-.94-2.06-.94L8.5 2.5l-.94 2.06-2.06.94zm10 10l.94 2.06.94-2.06 2.06-.94-2.06-.94-.94-2.06-.94 2.06-2.06.94z\"/><path d=\"M17.41 7.96l-1.37-1.37c-.4-.4-.92-.59-1.43-.59-.52 0-1.04.2-1.43.59L10.3 9.45l-7.72 7.72c-.78.78-.78 2.05 0 2.83L4 21.41c.39.39.9.59 1.41.59.51 0 1.02-.2 1.41-.59l7.78-7.78 2.81-2.81c.8-.78.8-2.07 0-2.86zM5.41 20L4 18.59l7.72-7.72 1.47 1.35L5.41 20z\"/>\n",
              "  </svg>\n",
              "      </button>\n",
              "      \n",
              "  <style>\n",
              "    .colab-df-container {\n",
              "      display:flex;\n",
              "      flex-wrap:wrap;\n",
              "      gap: 12px;\n",
              "    }\n",
              "\n",
              "    .colab-df-convert {\n",
              "      background-color: #E8F0FE;\n",
              "      border: none;\n",
              "      border-radius: 50%;\n",
              "      cursor: pointer;\n",
              "      display: none;\n",
              "      fill: #1967D2;\n",
              "      height: 32px;\n",
              "      padding: 0 0 0 0;\n",
              "      width: 32px;\n",
              "    }\n",
              "\n",
              "    .colab-df-convert:hover {\n",
              "      background-color: #E2EBFA;\n",
              "      box-shadow: 0px 1px 2px rgba(60, 64, 67, 0.3), 0px 1px 3px 1px rgba(60, 64, 67, 0.15);\n",
              "      fill: #174EA6;\n",
              "    }\n",
              "\n",
              "    [theme=dark] .colab-df-convert {\n",
              "      background-color: #3B4455;\n",
              "      fill: #D2E3FC;\n",
              "    }\n",
              "\n",
              "    [theme=dark] .colab-df-convert:hover {\n",
              "      background-color: #434B5C;\n",
              "      box-shadow: 0px 1px 3px 1px rgba(0, 0, 0, 0.15);\n",
              "      filter: drop-shadow(0px 1px 2px rgba(0, 0, 0, 0.3));\n",
              "      fill: #FFFFFF;\n",
              "    }\n",
              "  </style>\n",
              "\n",
              "      <script>\n",
              "        const buttonEl =\n",
              "          document.querySelector('#df-5ed54cc4-c3c0-4eab-8c5a-e76d9216d412 button.colab-df-convert');\n",
              "        buttonEl.style.display =\n",
              "          google.colab.kernel.accessAllowed ? 'block' : 'none';\n",
              "\n",
              "        async function convertToInteractive(key) {\n",
              "          const element = document.querySelector('#df-5ed54cc4-c3c0-4eab-8c5a-e76d9216d412');\n",
              "          const dataTable =\n",
              "            await google.colab.kernel.invokeFunction('convertToInteractive',\n",
              "                                                     [key], {});\n",
              "          if (!dataTable) return;\n",
              "\n",
              "          const docLinkHtml = 'Like what you see? Visit the ' +\n",
              "            '<a target=\"_blank\" href=https://colab.research.google.com/notebooks/data_table.ipynb>data table notebook</a>'\n",
              "            + ' to learn more about interactive tables.';\n",
              "          element.innerHTML = '';\n",
              "          dataTable['output_type'] = 'display_data';\n",
              "          await google.colab.output.renderOutput(dataTable, element);\n",
              "          const docLink = document.createElement('div');\n",
              "          docLink.innerHTML = docLinkHtml;\n",
              "          element.appendChild(docLink);\n",
              "        }\n",
              "      </script>\n",
              "    </div>\n",
              "  </div>\n",
              "  "
            ]
          },
          "metadata": {},
          "execution_count": 69
        }
      ]
    },
    {
      "cell_type": "markdown",
      "source": [
        "Results:\n",
        "* Variance of Emotional Stability: positive correlation, significant at 5% (p-value=0.04).\n",
        "* Variance of Openness to experience: negative correlation, significant at 5% (p-value=0.04)."
      ],
      "metadata": {
        "id": "nXHFEgWWZtE7"
      }
    },
    {
      "cell_type": "markdown",
      "source": [
        "#### Including all min"
      ],
      "metadata": {
        "id": "HUxMQ-VjZ9mt"
      }
    },
    {
      "cell_type": "code",
      "source": [
        "#define response variable\n",
        "y = dat1['performance']\n",
        "#define predictor variables\n",
        "x=dat1[dat1.columns[11:16]]\n",
        "#add constant to predictor variables\n",
        "x = sm.add_constant(x)\n",
        "#fit linear regression model\n",
        "model = sm.OLS(y, x).fit()\n",
        "results1_4 = pd.DataFrame({'Coef':model.params[1:6],'p-value':model.pvalues[1:6]})"
      ],
      "metadata": {
        "colab": {
          "base_uri": "https://localhost:8080/"
        },
        "id": "oJUiHxitaCGx",
        "outputId": "e0129d63-937c-447d-e527-efb7831d93e7"
      },
      "execution_count": 71,
      "outputs": [
        {
          "output_type": "stream",
          "name": "stderr",
          "text": [
            "/usr/local/lib/python3.8/dist-packages/statsmodels/tsa/tsatools.py:142: FutureWarning: In a future version of pandas all arguments of concat except for the argument 'objs' will be keyword-only\n",
            "  x = pd.concat(x[::order], 1)\n"
          ]
        }
      ]
    },
    {
      "cell_type": "code",
      "source": [
        "results1_4"
      ],
      "metadata": {
        "colab": {
          "base_uri": "https://localhost:8080/",
          "height": 206
        },
        "id": "fDvObcrGaMNt",
        "outputId": "b6ca93c1-b709-4183-90af-6121f9f9565f"
      },
      "execution_count": 72,
      "outputs": [
        {
          "output_type": "execute_result",
          "data": {
            "text/plain": [
              "                          Var      Coef   p-value\n",
              "emos_all_min    emos_all_mean -1.483720  0.098223\n",
              "extr_all_min    extr_all_mean  0.397113  0.606018\n",
              "open_all_min    open_all_mean  1.874636  0.036937\n",
              "agree_all_min  agree_all_mean  0.807850  0.308717\n",
              "cons_all_min    cons_all_mean -0.116321  0.887964"
            ],
            "text/html": [
              "\n",
              "  <div id=\"df-95ff3b81-4d49-4a91-9607-53de56b9e90d\">\n",
              "    <div class=\"colab-df-container\">\n",
              "      <div>\n",
              "<style scoped>\n",
              "    .dataframe tbody tr th:only-of-type {\n",
              "        vertical-align: middle;\n",
              "    }\n",
              "\n",
              "    .dataframe tbody tr th {\n",
              "        vertical-align: top;\n",
              "    }\n",
              "\n",
              "    .dataframe thead th {\n",
              "        text-align: right;\n",
              "    }\n",
              "</style>\n",
              "<table border=\"1\" class=\"dataframe\">\n",
              "  <thead>\n",
              "    <tr style=\"text-align: right;\">\n",
              "      <th></th>\n",
              "      <th>Var</th>\n",
              "      <th>Coef</th>\n",
              "      <th>p-value</th>\n",
              "    </tr>\n",
              "  </thead>\n",
              "  <tbody>\n",
              "    <tr>\n",
              "      <th>emos_all_min</th>\n",
              "      <td>emos_all_mean</td>\n",
              "      <td>-1.483720</td>\n",
              "      <td>0.098223</td>\n",
              "    </tr>\n",
              "    <tr>\n",
              "      <th>extr_all_min</th>\n",
              "      <td>extr_all_mean</td>\n",
              "      <td>0.397113</td>\n",
              "      <td>0.606018</td>\n",
              "    </tr>\n",
              "    <tr>\n",
              "      <th>open_all_min</th>\n",
              "      <td>open_all_mean</td>\n",
              "      <td>1.874636</td>\n",
              "      <td>0.036937</td>\n",
              "    </tr>\n",
              "    <tr>\n",
              "      <th>agree_all_min</th>\n",
              "      <td>agree_all_mean</td>\n",
              "      <td>0.807850</td>\n",
              "      <td>0.308717</td>\n",
              "    </tr>\n",
              "    <tr>\n",
              "      <th>cons_all_min</th>\n",
              "      <td>cons_all_mean</td>\n",
              "      <td>-0.116321</td>\n",
              "      <td>0.887964</td>\n",
              "    </tr>\n",
              "  </tbody>\n",
              "</table>\n",
              "</div>\n",
              "      <button class=\"colab-df-convert\" onclick=\"convertToInteractive('df-95ff3b81-4d49-4a91-9607-53de56b9e90d')\"\n",
              "              title=\"Convert this dataframe to an interactive table.\"\n",
              "              style=\"display:none;\">\n",
              "        \n",
              "  <svg xmlns=\"http://www.w3.org/2000/svg\" height=\"24px\"viewBox=\"0 0 24 24\"\n",
              "       width=\"24px\">\n",
              "    <path d=\"M0 0h24v24H0V0z\" fill=\"none\"/>\n",
              "    <path d=\"M18.56 5.44l.94 2.06.94-2.06 2.06-.94-2.06-.94-.94-2.06-.94 2.06-2.06.94zm-11 1L8.5 8.5l.94-2.06 2.06-.94-2.06-.94L8.5 2.5l-.94 2.06-2.06.94zm10 10l.94 2.06.94-2.06 2.06-.94-2.06-.94-.94-2.06-.94 2.06-2.06.94z\"/><path d=\"M17.41 7.96l-1.37-1.37c-.4-.4-.92-.59-1.43-.59-.52 0-1.04.2-1.43.59L10.3 9.45l-7.72 7.72c-.78.78-.78 2.05 0 2.83L4 21.41c.39.39.9.59 1.41.59.51 0 1.02-.2 1.41-.59l7.78-7.78 2.81-2.81c.8-.78.8-2.07 0-2.86zM5.41 20L4 18.59l7.72-7.72 1.47 1.35L5.41 20z\"/>\n",
              "  </svg>\n",
              "      </button>\n",
              "      \n",
              "  <style>\n",
              "    .colab-df-container {\n",
              "      display:flex;\n",
              "      flex-wrap:wrap;\n",
              "      gap: 12px;\n",
              "    }\n",
              "\n",
              "    .colab-df-convert {\n",
              "      background-color: #E8F0FE;\n",
              "      border: none;\n",
              "      border-radius: 50%;\n",
              "      cursor: pointer;\n",
              "      display: none;\n",
              "      fill: #1967D2;\n",
              "      height: 32px;\n",
              "      padding: 0 0 0 0;\n",
              "      width: 32px;\n",
              "    }\n",
              "\n",
              "    .colab-df-convert:hover {\n",
              "      background-color: #E2EBFA;\n",
              "      box-shadow: 0px 1px 2px rgba(60, 64, 67, 0.3), 0px 1px 3px 1px rgba(60, 64, 67, 0.15);\n",
              "      fill: #174EA6;\n",
              "    }\n",
              "\n",
              "    [theme=dark] .colab-df-convert {\n",
              "      background-color: #3B4455;\n",
              "      fill: #D2E3FC;\n",
              "    }\n",
              "\n",
              "    [theme=dark] .colab-df-convert:hover {\n",
              "      background-color: #434B5C;\n",
              "      box-shadow: 0px 1px 3px 1px rgba(0, 0, 0, 0.15);\n",
              "      filter: drop-shadow(0px 1px 2px rgba(0, 0, 0, 0.3));\n",
              "      fill: #FFFFFF;\n",
              "    }\n",
              "  </style>\n",
              "\n",
              "      <script>\n",
              "        const buttonEl =\n",
              "          document.querySelector('#df-95ff3b81-4d49-4a91-9607-53de56b9e90d button.colab-df-convert');\n",
              "        buttonEl.style.display =\n",
              "          google.colab.kernel.accessAllowed ? 'block' : 'none';\n",
              "\n",
              "        async function convertToInteractive(key) {\n",
              "          const element = document.querySelector('#df-95ff3b81-4d49-4a91-9607-53de56b9e90d');\n",
              "          const dataTable =\n",
              "            await google.colab.kernel.invokeFunction('convertToInteractive',\n",
              "                                                     [key], {});\n",
              "          if (!dataTable) return;\n",
              "\n",
              "          const docLinkHtml = 'Like what you see? Visit the ' +\n",
              "            '<a target=\"_blank\" href=https://colab.research.google.com/notebooks/data_table.ipynb>data table notebook</a>'\n",
              "            + ' to learn more about interactive tables.';\n",
              "          element.innerHTML = '';\n",
              "          dataTable['output_type'] = 'display_data';\n",
              "          await google.colab.output.renderOutput(dataTable, element);\n",
              "          const docLink = document.createElement('div');\n",
              "          docLink.innerHTML = docLinkHtml;\n",
              "          element.appendChild(docLink);\n",
              "        }\n",
              "      </script>\n",
              "    </div>\n",
              "  </div>\n",
              "  "
            ]
          },
          "metadata": {},
          "execution_count": 72
        }
      ]
    },
    {
      "cell_type": "markdown",
      "source": [
        "Results:\n",
        "* Min of Emotional Stability: negative correlation, significant at 10% (p-value=0.098)\n",
        "* Min of Openness to experience: positive correlation, significant at 5% (p-value=0.04)."
      ],
      "metadata": {
        "id": "A1vJanSfaU99"
      }
    },
    {
      "cell_type": "markdown",
      "source": [
        "#### Including all max"
      ],
      "metadata": {
        "id": "zXzrWDOYax82"
      }
    },
    {
      "cell_type": "code",
      "source": [
        "#define response variable\n",
        "y = dat1['performance']\n",
        "#define predictor variables\n",
        "x=dat1[dat1.columns[16:21]]\n",
        "#add constant to predictor variables\n",
        "x = sm.add_constant(x)\n",
        "#fit linear regression model\n",
        "model = sm.OLS(y, x).fit()\n",
        "results1_5 = pd.DataFrame({'Coef':model.params[1:6],'p-value':model.pvalues[1:6]})"
      ],
      "metadata": {
        "colab": {
          "base_uri": "https://localhost:8080/"
        },
        "id": "CmVM_gciaxQF",
        "outputId": "994fcecb-43be-4035-b7d3-105380bfe01a"
      },
      "execution_count": 76,
      "outputs": [
        {
          "output_type": "stream",
          "name": "stderr",
          "text": [
            "/usr/local/lib/python3.8/dist-packages/statsmodels/tsa/tsatools.py:142: FutureWarning: In a future version of pandas all arguments of concat except for the argument 'objs' will be keyword-only\n",
            "  x = pd.concat(x[::order], 1)\n"
          ]
        }
      ]
    },
    {
      "cell_type": "code",
      "source": [
        "results1_5"
      ],
      "metadata": {
        "colab": {
          "base_uri": "https://localhost:8080/",
          "height": 206
        },
        "id": "wBtNUH_Ua4KP",
        "outputId": "ab639bbd-e2dd-4833-f9ac-75cd0e3ece14"
      },
      "execution_count": 77,
      "outputs": [
        {
          "output_type": "execute_result",
          "data": {
            "text/plain": [
              "                          Var      Coef   p-value\n",
              "emos_all_max    emos_all_mean  0.970707  0.199648\n",
              "extr_all_max    extr_all_mean -0.775514  0.416088\n",
              "open_all_max    open_all_mean -0.360637  0.704002\n",
              "agree_all_max  agree_all_mean -0.567651  0.531455\n",
              "cons_all_max    cons_all_mean -1.946531  0.025762"
            ],
            "text/html": [
              "\n",
              "  <div id=\"df-a22d06d5-2e70-48d3-80bb-25be54eb6eef\">\n",
              "    <div class=\"colab-df-container\">\n",
              "      <div>\n",
              "<style scoped>\n",
              "    .dataframe tbody tr th:only-of-type {\n",
              "        vertical-align: middle;\n",
              "    }\n",
              "\n",
              "    .dataframe tbody tr th {\n",
              "        vertical-align: top;\n",
              "    }\n",
              "\n",
              "    .dataframe thead th {\n",
              "        text-align: right;\n",
              "    }\n",
              "</style>\n",
              "<table border=\"1\" class=\"dataframe\">\n",
              "  <thead>\n",
              "    <tr style=\"text-align: right;\">\n",
              "      <th></th>\n",
              "      <th>Var</th>\n",
              "      <th>Coef</th>\n",
              "      <th>p-value</th>\n",
              "    </tr>\n",
              "  </thead>\n",
              "  <tbody>\n",
              "    <tr>\n",
              "      <th>emos_all_max</th>\n",
              "      <td>emos_all_mean</td>\n",
              "      <td>0.970707</td>\n",
              "      <td>0.199648</td>\n",
              "    </tr>\n",
              "    <tr>\n",
              "      <th>extr_all_max</th>\n",
              "      <td>extr_all_mean</td>\n",
              "      <td>-0.775514</td>\n",
              "      <td>0.416088</td>\n",
              "    </tr>\n",
              "    <tr>\n",
              "      <th>open_all_max</th>\n",
              "      <td>open_all_mean</td>\n",
              "      <td>-0.360637</td>\n",
              "      <td>0.704002</td>\n",
              "    </tr>\n",
              "    <tr>\n",
              "      <th>agree_all_max</th>\n",
              "      <td>agree_all_mean</td>\n",
              "      <td>-0.567651</td>\n",
              "      <td>0.531455</td>\n",
              "    </tr>\n",
              "    <tr>\n",
              "      <th>cons_all_max</th>\n",
              "      <td>cons_all_mean</td>\n",
              "      <td>-1.946531</td>\n",
              "      <td>0.025762</td>\n",
              "    </tr>\n",
              "  </tbody>\n",
              "</table>\n",
              "</div>\n",
              "      <button class=\"colab-df-convert\" onclick=\"convertToInteractive('df-a22d06d5-2e70-48d3-80bb-25be54eb6eef')\"\n",
              "              title=\"Convert this dataframe to an interactive table.\"\n",
              "              style=\"display:none;\">\n",
              "        \n",
              "  <svg xmlns=\"http://www.w3.org/2000/svg\" height=\"24px\"viewBox=\"0 0 24 24\"\n",
              "       width=\"24px\">\n",
              "    <path d=\"M0 0h24v24H0V0z\" fill=\"none\"/>\n",
              "    <path d=\"M18.56 5.44l.94 2.06.94-2.06 2.06-.94-2.06-.94-.94-2.06-.94 2.06-2.06.94zm-11 1L8.5 8.5l.94-2.06 2.06-.94-2.06-.94L8.5 2.5l-.94 2.06-2.06.94zm10 10l.94 2.06.94-2.06 2.06-.94-2.06-.94-.94-2.06-.94 2.06-2.06.94z\"/><path d=\"M17.41 7.96l-1.37-1.37c-.4-.4-.92-.59-1.43-.59-.52 0-1.04.2-1.43.59L10.3 9.45l-7.72 7.72c-.78.78-.78 2.05 0 2.83L4 21.41c.39.39.9.59 1.41.59.51 0 1.02-.2 1.41-.59l7.78-7.78 2.81-2.81c.8-.78.8-2.07 0-2.86zM5.41 20L4 18.59l7.72-7.72 1.47 1.35L5.41 20z\"/>\n",
              "  </svg>\n",
              "      </button>\n",
              "      \n",
              "  <style>\n",
              "    .colab-df-container {\n",
              "      display:flex;\n",
              "      flex-wrap:wrap;\n",
              "      gap: 12px;\n",
              "    }\n",
              "\n",
              "    .colab-df-convert {\n",
              "      background-color: #E8F0FE;\n",
              "      border: none;\n",
              "      border-radius: 50%;\n",
              "      cursor: pointer;\n",
              "      display: none;\n",
              "      fill: #1967D2;\n",
              "      height: 32px;\n",
              "      padding: 0 0 0 0;\n",
              "      width: 32px;\n",
              "    }\n",
              "\n",
              "    .colab-df-convert:hover {\n",
              "      background-color: #E2EBFA;\n",
              "      box-shadow: 0px 1px 2px rgba(60, 64, 67, 0.3), 0px 1px 3px 1px rgba(60, 64, 67, 0.15);\n",
              "      fill: #174EA6;\n",
              "    }\n",
              "\n",
              "    [theme=dark] .colab-df-convert {\n",
              "      background-color: #3B4455;\n",
              "      fill: #D2E3FC;\n",
              "    }\n",
              "\n",
              "    [theme=dark] .colab-df-convert:hover {\n",
              "      background-color: #434B5C;\n",
              "      box-shadow: 0px 1px 3px 1px rgba(0, 0, 0, 0.15);\n",
              "      filter: drop-shadow(0px 1px 2px rgba(0, 0, 0, 0.3));\n",
              "      fill: #FFFFFF;\n",
              "    }\n",
              "  </style>\n",
              "\n",
              "      <script>\n",
              "        const buttonEl =\n",
              "          document.querySelector('#df-a22d06d5-2e70-48d3-80bb-25be54eb6eef button.colab-df-convert');\n",
              "        buttonEl.style.display =\n",
              "          google.colab.kernel.accessAllowed ? 'block' : 'none';\n",
              "\n",
              "        async function convertToInteractive(key) {\n",
              "          const element = document.querySelector('#df-a22d06d5-2e70-48d3-80bb-25be54eb6eef');\n",
              "          const dataTable =\n",
              "            await google.colab.kernel.invokeFunction('convertToInteractive',\n",
              "                                                     [key], {});\n",
              "          if (!dataTable) return;\n",
              "\n",
              "          const docLinkHtml = 'Like what you see? Visit the ' +\n",
              "            '<a target=\"_blank\" href=https://colab.research.google.com/notebooks/data_table.ipynb>data table notebook</a>'\n",
              "            + ' to learn more about interactive tables.';\n",
              "          element.innerHTML = '';\n",
              "          dataTable['output_type'] = 'display_data';\n",
              "          await google.colab.output.renderOutput(dataTable, element);\n",
              "          const docLink = document.createElement('div');\n",
              "          docLink.innerHTML = docLinkHtml;\n",
              "          element.appendChild(docLink);\n",
              "        }\n",
              "      </script>\n",
              "    </div>\n",
              "  </div>\n",
              "  "
            ]
          },
          "metadata": {},
          "execution_count": 77
        }
      ]
    },
    {
      "cell_type": "markdown",
      "source": [
        "Results:\n",
        "* Max of Conscientiousness: negative correlation, significant at 5% (p-value=0.03)"
      ],
      "metadata": {
        "id": "C0Gc9zLPbCFu"
      }
    },
    {
      "cell_type": "markdown",
      "source": [
        "#### Including all means and variances"
      ],
      "metadata": {
        "id": "gwQasJC0bJ_E"
      }
    },
    {
      "cell_type": "code",
      "source": [
        "#define response variable\n",
        "y = dat1['performance']\n",
        "#define predictor variables\n",
        "x=dat1[dat1.columns[1:11]]\n",
        "#add constant to predictor variables\n",
        "x = sm.add_constant(x)\n",
        "#fit linear regression model\n",
        "model = sm.OLS(y, x).fit()\n",
        "results1_6 = pd.DataFrame({'Coef':model.params[1:11],'p-value':model.pvalues[1:11]})"
      ],
      "metadata": {
        "colab": {
          "base_uri": "https://localhost:8080/"
        },
        "id": "HTx3BsfhbMgg",
        "outputId": "ab341623-7cda-4b93-e590-4f42867a0f4a"
      },
      "execution_count": 78,
      "outputs": [
        {
          "output_type": "stream",
          "name": "stderr",
          "text": [
            "/usr/local/lib/python3.8/dist-packages/statsmodels/tsa/tsatools.py:142: FutureWarning: In a future version of pandas all arguments of concat except for the argument 'objs' will be keyword-only\n",
            "  x = pd.concat(x[::order], 1)\n"
          ]
        }
      ]
    },
    {
      "cell_type": "code",
      "source": [
        "results1_6"
      ],
      "metadata": {
        "colab": {
          "base_uri": "https://localhost:8080/",
          "height": 363
        },
        "id": "L0pu6O8Rbczp",
        "outputId": "689a4af8-f074-4a5a-9e3d-41e2e8913f6c"
      },
      "execution_count": 79,
      "outputs": [
        {
          "output_type": "execute_result",
          "data": {
            "text/plain": [
              "                           Var      Coef   p-value\n",
              "emos_all_mean    emos_all_mean -1.305549  0.315898\n",
              "extr_all_mean    extr_all_mean  1.065872  0.438808\n",
              "open_all_mean    open_all_mean  0.645660  0.638759\n",
              "agree_all_mean  agree_all_mean  0.511173  0.705935\n",
              "cons_all_mean    cons_all_mean -1.617148  0.199566\n",
              "emos_all_sd        emos_all_sd  3.391161  0.029579\n",
              "extr_all_sd        extr_all_sd -1.738160  0.276440\n",
              "open_all_sd        open_all_sd -3.704037  0.044146\n",
              "agree_all_sd      agree_all_sd -1.759489  0.282080\n",
              "cons_all_sd        cons_all_sd -2.540767  0.141862"
            ],
            "text/html": [
              "\n",
              "  <div id=\"df-8913841d-6bbe-44a0-9405-aa95f28280af\">\n",
              "    <div class=\"colab-df-container\">\n",
              "      <div>\n",
              "<style scoped>\n",
              "    .dataframe tbody tr th:only-of-type {\n",
              "        vertical-align: middle;\n",
              "    }\n",
              "\n",
              "    .dataframe tbody tr th {\n",
              "        vertical-align: top;\n",
              "    }\n",
              "\n",
              "    .dataframe thead th {\n",
              "        text-align: right;\n",
              "    }\n",
              "</style>\n",
              "<table border=\"1\" class=\"dataframe\">\n",
              "  <thead>\n",
              "    <tr style=\"text-align: right;\">\n",
              "      <th></th>\n",
              "      <th>Var</th>\n",
              "      <th>Coef</th>\n",
              "      <th>p-value</th>\n",
              "    </tr>\n",
              "  </thead>\n",
              "  <tbody>\n",
              "    <tr>\n",
              "      <th>emos_all_mean</th>\n",
              "      <td>emos_all_mean</td>\n",
              "      <td>-1.305549</td>\n",
              "      <td>0.315898</td>\n",
              "    </tr>\n",
              "    <tr>\n",
              "      <th>extr_all_mean</th>\n",
              "      <td>extr_all_mean</td>\n",
              "      <td>1.065872</td>\n",
              "      <td>0.438808</td>\n",
              "    </tr>\n",
              "    <tr>\n",
              "      <th>open_all_mean</th>\n",
              "      <td>open_all_mean</td>\n",
              "      <td>0.645660</td>\n",
              "      <td>0.638759</td>\n",
              "    </tr>\n",
              "    <tr>\n",
              "      <th>agree_all_mean</th>\n",
              "      <td>agree_all_mean</td>\n",
              "      <td>0.511173</td>\n",
              "      <td>0.705935</td>\n",
              "    </tr>\n",
              "    <tr>\n",
              "      <th>cons_all_mean</th>\n",
              "      <td>cons_all_mean</td>\n",
              "      <td>-1.617148</td>\n",
              "      <td>0.199566</td>\n",
              "    </tr>\n",
              "    <tr>\n",
              "      <th>emos_all_sd</th>\n",
              "      <td>emos_all_sd</td>\n",
              "      <td>3.391161</td>\n",
              "      <td>0.029579</td>\n",
              "    </tr>\n",
              "    <tr>\n",
              "      <th>extr_all_sd</th>\n",
              "      <td>extr_all_sd</td>\n",
              "      <td>-1.738160</td>\n",
              "      <td>0.276440</td>\n",
              "    </tr>\n",
              "    <tr>\n",
              "      <th>open_all_sd</th>\n",
              "      <td>open_all_sd</td>\n",
              "      <td>-3.704037</td>\n",
              "      <td>0.044146</td>\n",
              "    </tr>\n",
              "    <tr>\n",
              "      <th>agree_all_sd</th>\n",
              "      <td>agree_all_sd</td>\n",
              "      <td>-1.759489</td>\n",
              "      <td>0.282080</td>\n",
              "    </tr>\n",
              "    <tr>\n",
              "      <th>cons_all_sd</th>\n",
              "      <td>cons_all_sd</td>\n",
              "      <td>-2.540767</td>\n",
              "      <td>0.141862</td>\n",
              "    </tr>\n",
              "  </tbody>\n",
              "</table>\n",
              "</div>\n",
              "      <button class=\"colab-df-convert\" onclick=\"convertToInteractive('df-8913841d-6bbe-44a0-9405-aa95f28280af')\"\n",
              "              title=\"Convert this dataframe to an interactive table.\"\n",
              "              style=\"display:none;\">\n",
              "        \n",
              "  <svg xmlns=\"http://www.w3.org/2000/svg\" height=\"24px\"viewBox=\"0 0 24 24\"\n",
              "       width=\"24px\">\n",
              "    <path d=\"M0 0h24v24H0V0z\" fill=\"none\"/>\n",
              "    <path d=\"M18.56 5.44l.94 2.06.94-2.06 2.06-.94-2.06-.94-.94-2.06-.94 2.06-2.06.94zm-11 1L8.5 8.5l.94-2.06 2.06-.94-2.06-.94L8.5 2.5l-.94 2.06-2.06.94zm10 10l.94 2.06.94-2.06 2.06-.94-2.06-.94-.94-2.06-.94 2.06-2.06.94z\"/><path d=\"M17.41 7.96l-1.37-1.37c-.4-.4-.92-.59-1.43-.59-.52 0-1.04.2-1.43.59L10.3 9.45l-7.72 7.72c-.78.78-.78 2.05 0 2.83L4 21.41c.39.39.9.59 1.41.59.51 0 1.02-.2 1.41-.59l7.78-7.78 2.81-2.81c.8-.78.8-2.07 0-2.86zM5.41 20L4 18.59l7.72-7.72 1.47 1.35L5.41 20z\"/>\n",
              "  </svg>\n",
              "      </button>\n",
              "      \n",
              "  <style>\n",
              "    .colab-df-container {\n",
              "      display:flex;\n",
              "      flex-wrap:wrap;\n",
              "      gap: 12px;\n",
              "    }\n",
              "\n",
              "    .colab-df-convert {\n",
              "      background-color: #E8F0FE;\n",
              "      border: none;\n",
              "      border-radius: 50%;\n",
              "      cursor: pointer;\n",
              "      display: none;\n",
              "      fill: #1967D2;\n",
              "      height: 32px;\n",
              "      padding: 0 0 0 0;\n",
              "      width: 32px;\n",
              "    }\n",
              "\n",
              "    .colab-df-convert:hover {\n",
              "      background-color: #E2EBFA;\n",
              "      box-shadow: 0px 1px 2px rgba(60, 64, 67, 0.3), 0px 1px 3px 1px rgba(60, 64, 67, 0.15);\n",
              "      fill: #174EA6;\n",
              "    }\n",
              "\n",
              "    [theme=dark] .colab-df-convert {\n",
              "      background-color: #3B4455;\n",
              "      fill: #D2E3FC;\n",
              "    }\n",
              "\n",
              "    [theme=dark] .colab-df-convert:hover {\n",
              "      background-color: #434B5C;\n",
              "      box-shadow: 0px 1px 3px 1px rgba(0, 0, 0, 0.15);\n",
              "      filter: drop-shadow(0px 1px 2px rgba(0, 0, 0, 0.3));\n",
              "      fill: #FFFFFF;\n",
              "    }\n",
              "  </style>\n",
              "\n",
              "      <script>\n",
              "        const buttonEl =\n",
              "          document.querySelector('#df-8913841d-6bbe-44a0-9405-aa95f28280af button.colab-df-convert');\n",
              "        buttonEl.style.display =\n",
              "          google.colab.kernel.accessAllowed ? 'block' : 'none';\n",
              "\n",
              "        async function convertToInteractive(key) {\n",
              "          const element = document.querySelector('#df-8913841d-6bbe-44a0-9405-aa95f28280af');\n",
              "          const dataTable =\n",
              "            await google.colab.kernel.invokeFunction('convertToInteractive',\n",
              "                                                     [key], {});\n",
              "          if (!dataTable) return;\n",
              "\n",
              "          const docLinkHtml = 'Like what you see? Visit the ' +\n",
              "            '<a target=\"_blank\" href=https://colab.research.google.com/notebooks/data_table.ipynb>data table notebook</a>'\n",
              "            + ' to learn more about interactive tables.';\n",
              "          element.innerHTML = '';\n",
              "          dataTable['output_type'] = 'display_data';\n",
              "          await google.colab.output.renderOutput(dataTable, element);\n",
              "          const docLink = document.createElement('div');\n",
              "          docLink.innerHTML = docLinkHtml;\n",
              "          element.appendChild(docLink);\n",
              "        }\n",
              "      </script>\n",
              "    </div>\n",
              "  </div>\n",
              "  "
            ]
          },
          "metadata": {},
          "execution_count": 79
        }
      ]
    },
    {
      "cell_type": "markdown",
      "source": [
        "Results:\n",
        "\n",
        "* Variance of Emotional Stability: positive correlation, significant at 5% (p-value=0.03).\n",
        "* Variance of Openness to experience: negative correlation, significant at 5% (p-value=0.04)."
      ],
      "metadata": {
        "id": "5rVZC_9obmWE"
      }
    },
    {
      "cell_type": "markdown",
      "source": [
        "#### Including all means, variance, min and max"
      ],
      "metadata": {
        "id": "lWpw1JdDb5XZ"
      }
    },
    {
      "cell_type": "code",
      "source": [
        "#define response variable\n",
        "y = dat1['performance']\n",
        "#define predictor variables\n",
        "x=dat1[dat1.columns[1:21]]\n",
        "#add constant to predictor variables\n",
        "x = sm.add_constant(x)\n",
        "#fit linear regression model\n",
        "model = sm.OLS(y, x).fit()\n",
        "results1_7 = pd.DataFrame({'Coef':model.params[1:21],'p-value':model.pvalues[1:21]})"
      ],
      "metadata": {
        "colab": {
          "base_uri": "https://localhost:8080/"
        },
        "id": "gUduos_Tb8qa",
        "outputId": "39cc949e-977b-40ba-d092-b035e5fa2555"
      },
      "execution_count": 80,
      "outputs": [
        {
          "output_type": "stream",
          "name": "stderr",
          "text": [
            "/usr/local/lib/python3.8/dist-packages/statsmodels/tsa/tsatools.py:142: FutureWarning: In a future version of pandas all arguments of concat except for the argument 'objs' will be keyword-only\n",
            "  x = pd.concat(x[::order], 1)\n"
          ]
        }
      ]
    },
    {
      "cell_type": "code",
      "source": [
        "results1_7"
      ],
      "metadata": {
        "colab": {
          "base_uri": "https://localhost:8080/",
          "height": 676
        },
        "id": "qUt69t7PcCXp",
        "outputId": "fa2cdc39-143d-44d3-c791-5eed51195325"
      },
      "execution_count": 81,
      "outputs": [
        {
          "output_type": "execute_result",
          "data": {
            "text/plain": [
              "                           Var      Coef   p-value\n",
              "emos_all_mean    emos_all_mean -2.967884  0.283616\n",
              "extr_all_mean    extr_all_mean  5.246365  0.048343\n",
              "open_all_mean    open_all_mean -2.049247  0.488334\n",
              "agree_all_mean  agree_all_mean  1.586236  0.574287\n",
              "cons_all_mean    cons_all_mean -0.853409  0.764337\n",
              "emos_all_sd        emos_all_sd  1.429812  0.826569\n",
              "extr_all_sd        extr_all_sd -7.273403  0.269191\n",
              "open_all_sd        open_all_sd -1.276171  0.869993\n",
              "agree_all_sd      agree_all_sd  4.121216  0.606363\n",
              "cons_all_sd        cons_all_sd -8.068733  0.259703\n",
              "emos_all_min      emos_all_min  0.103105  0.971169\n",
              "extr_all_min      extr_all_min -4.180819  0.132412\n",
              "open_all_min      open_all_min  2.187377  0.515851\n",
              "agree_all_min    agree_all_min  1.779993  0.588782\n",
              "cons_all_min      cons_all_min -2.642702  0.386487\n",
              "emos_all_max      emos_all_max  1.583941  0.567882\n",
              "extr_all_max      extr_all_max -0.072804  0.979777\n",
              "open_all_max      open_all_max  0.560535  0.864084\n",
              "agree_all_max    agree_all_max -2.829680  0.401149\n",
              "cons_all_max      cons_all_max  1.842348  0.548661"
            ],
            "text/html": [
              "\n",
              "  <div id=\"df-f895842c-cdd0-4998-b099-a47e96b798d5\">\n",
              "    <div class=\"colab-df-container\">\n",
              "      <div>\n",
              "<style scoped>\n",
              "    .dataframe tbody tr th:only-of-type {\n",
              "        vertical-align: middle;\n",
              "    }\n",
              "\n",
              "    .dataframe tbody tr th {\n",
              "        vertical-align: top;\n",
              "    }\n",
              "\n",
              "    .dataframe thead th {\n",
              "        text-align: right;\n",
              "    }\n",
              "</style>\n",
              "<table border=\"1\" class=\"dataframe\">\n",
              "  <thead>\n",
              "    <tr style=\"text-align: right;\">\n",
              "      <th></th>\n",
              "      <th>Var</th>\n",
              "      <th>Coef</th>\n",
              "      <th>p-value</th>\n",
              "    </tr>\n",
              "  </thead>\n",
              "  <tbody>\n",
              "    <tr>\n",
              "      <th>emos_all_mean</th>\n",
              "      <td>emos_all_mean</td>\n",
              "      <td>-2.967884</td>\n",
              "      <td>0.283616</td>\n",
              "    </tr>\n",
              "    <tr>\n",
              "      <th>extr_all_mean</th>\n",
              "      <td>extr_all_mean</td>\n",
              "      <td>5.246365</td>\n",
              "      <td>0.048343</td>\n",
              "    </tr>\n",
              "    <tr>\n",
              "      <th>open_all_mean</th>\n",
              "      <td>open_all_mean</td>\n",
              "      <td>-2.049247</td>\n",
              "      <td>0.488334</td>\n",
              "    </tr>\n",
              "    <tr>\n",
              "      <th>agree_all_mean</th>\n",
              "      <td>agree_all_mean</td>\n",
              "      <td>1.586236</td>\n",
              "      <td>0.574287</td>\n",
              "    </tr>\n",
              "    <tr>\n",
              "      <th>cons_all_mean</th>\n",
              "      <td>cons_all_mean</td>\n",
              "      <td>-0.853409</td>\n",
              "      <td>0.764337</td>\n",
              "    </tr>\n",
              "    <tr>\n",
              "      <th>emos_all_sd</th>\n",
              "      <td>emos_all_sd</td>\n",
              "      <td>1.429812</td>\n",
              "      <td>0.826569</td>\n",
              "    </tr>\n",
              "    <tr>\n",
              "      <th>extr_all_sd</th>\n",
              "      <td>extr_all_sd</td>\n",
              "      <td>-7.273403</td>\n",
              "      <td>0.269191</td>\n",
              "    </tr>\n",
              "    <tr>\n",
              "      <th>open_all_sd</th>\n",
              "      <td>open_all_sd</td>\n",
              "      <td>-1.276171</td>\n",
              "      <td>0.869993</td>\n",
              "    </tr>\n",
              "    <tr>\n",
              "      <th>agree_all_sd</th>\n",
              "      <td>agree_all_sd</td>\n",
              "      <td>4.121216</td>\n",
              "      <td>0.606363</td>\n",
              "    </tr>\n",
              "    <tr>\n",
              "      <th>cons_all_sd</th>\n",
              "      <td>cons_all_sd</td>\n",
              "      <td>-8.068733</td>\n",
              "      <td>0.259703</td>\n",
              "    </tr>\n",
              "    <tr>\n",
              "      <th>emos_all_min</th>\n",
              "      <td>emos_all_min</td>\n",
              "      <td>0.103105</td>\n",
              "      <td>0.971169</td>\n",
              "    </tr>\n",
              "    <tr>\n",
              "      <th>extr_all_min</th>\n",
              "      <td>extr_all_min</td>\n",
              "      <td>-4.180819</td>\n",
              "      <td>0.132412</td>\n",
              "    </tr>\n",
              "    <tr>\n",
              "      <th>open_all_min</th>\n",
              "      <td>open_all_min</td>\n",
              "      <td>2.187377</td>\n",
              "      <td>0.515851</td>\n",
              "    </tr>\n",
              "    <tr>\n",
              "      <th>agree_all_min</th>\n",
              "      <td>agree_all_min</td>\n",
              "      <td>1.779993</td>\n",
              "      <td>0.588782</td>\n",
              "    </tr>\n",
              "    <tr>\n",
              "      <th>cons_all_min</th>\n",
              "      <td>cons_all_min</td>\n",
              "      <td>-2.642702</td>\n",
              "      <td>0.386487</td>\n",
              "    </tr>\n",
              "    <tr>\n",
              "      <th>emos_all_max</th>\n",
              "      <td>emos_all_max</td>\n",
              "      <td>1.583941</td>\n",
              "      <td>0.567882</td>\n",
              "    </tr>\n",
              "    <tr>\n",
              "      <th>extr_all_max</th>\n",
              "      <td>extr_all_max</td>\n",
              "      <td>-0.072804</td>\n",
              "      <td>0.979777</td>\n",
              "    </tr>\n",
              "    <tr>\n",
              "      <th>open_all_max</th>\n",
              "      <td>open_all_max</td>\n",
              "      <td>0.560535</td>\n",
              "      <td>0.864084</td>\n",
              "    </tr>\n",
              "    <tr>\n",
              "      <th>agree_all_max</th>\n",
              "      <td>agree_all_max</td>\n",
              "      <td>-2.829680</td>\n",
              "      <td>0.401149</td>\n",
              "    </tr>\n",
              "    <tr>\n",
              "      <th>cons_all_max</th>\n",
              "      <td>cons_all_max</td>\n",
              "      <td>1.842348</td>\n",
              "      <td>0.548661</td>\n",
              "    </tr>\n",
              "  </tbody>\n",
              "</table>\n",
              "</div>\n",
              "      <button class=\"colab-df-convert\" onclick=\"convertToInteractive('df-f895842c-cdd0-4998-b099-a47e96b798d5')\"\n",
              "              title=\"Convert this dataframe to an interactive table.\"\n",
              "              style=\"display:none;\">\n",
              "        \n",
              "  <svg xmlns=\"http://www.w3.org/2000/svg\" height=\"24px\"viewBox=\"0 0 24 24\"\n",
              "       width=\"24px\">\n",
              "    <path d=\"M0 0h24v24H0V0z\" fill=\"none\"/>\n",
              "    <path d=\"M18.56 5.44l.94 2.06.94-2.06 2.06-.94-2.06-.94-.94-2.06-.94 2.06-2.06.94zm-11 1L8.5 8.5l.94-2.06 2.06-.94-2.06-.94L8.5 2.5l-.94 2.06-2.06.94zm10 10l.94 2.06.94-2.06 2.06-.94-2.06-.94-.94-2.06-.94 2.06-2.06.94z\"/><path d=\"M17.41 7.96l-1.37-1.37c-.4-.4-.92-.59-1.43-.59-.52 0-1.04.2-1.43.59L10.3 9.45l-7.72 7.72c-.78.78-.78 2.05 0 2.83L4 21.41c.39.39.9.59 1.41.59.51 0 1.02-.2 1.41-.59l7.78-7.78 2.81-2.81c.8-.78.8-2.07 0-2.86zM5.41 20L4 18.59l7.72-7.72 1.47 1.35L5.41 20z\"/>\n",
              "  </svg>\n",
              "      </button>\n",
              "      \n",
              "  <style>\n",
              "    .colab-df-container {\n",
              "      display:flex;\n",
              "      flex-wrap:wrap;\n",
              "      gap: 12px;\n",
              "    }\n",
              "\n",
              "    .colab-df-convert {\n",
              "      background-color: #E8F0FE;\n",
              "      border: none;\n",
              "      border-radius: 50%;\n",
              "      cursor: pointer;\n",
              "      display: none;\n",
              "      fill: #1967D2;\n",
              "      height: 32px;\n",
              "      padding: 0 0 0 0;\n",
              "      width: 32px;\n",
              "    }\n",
              "\n",
              "    .colab-df-convert:hover {\n",
              "      background-color: #E2EBFA;\n",
              "      box-shadow: 0px 1px 2px rgba(60, 64, 67, 0.3), 0px 1px 3px 1px rgba(60, 64, 67, 0.15);\n",
              "      fill: #174EA6;\n",
              "    }\n",
              "\n",
              "    [theme=dark] .colab-df-convert {\n",
              "      background-color: #3B4455;\n",
              "      fill: #D2E3FC;\n",
              "    }\n",
              "\n",
              "    [theme=dark] .colab-df-convert:hover {\n",
              "      background-color: #434B5C;\n",
              "      box-shadow: 0px 1px 3px 1px rgba(0, 0, 0, 0.15);\n",
              "      filter: drop-shadow(0px 1px 2px rgba(0, 0, 0, 0.3));\n",
              "      fill: #FFFFFF;\n",
              "    }\n",
              "  </style>\n",
              "\n",
              "      <script>\n",
              "        const buttonEl =\n",
              "          document.querySelector('#df-f895842c-cdd0-4998-b099-a47e96b798d5 button.colab-df-convert');\n",
              "        buttonEl.style.display =\n",
              "          google.colab.kernel.accessAllowed ? 'block' : 'none';\n",
              "\n",
              "        async function convertToInteractive(key) {\n",
              "          const element = document.querySelector('#df-f895842c-cdd0-4998-b099-a47e96b798d5');\n",
              "          const dataTable =\n",
              "            await google.colab.kernel.invokeFunction('convertToInteractive',\n",
              "                                                     [key], {});\n",
              "          if (!dataTable) return;\n",
              "\n",
              "          const docLinkHtml = 'Like what you see? Visit the ' +\n",
              "            '<a target=\"_blank\" href=https://colab.research.google.com/notebooks/data_table.ipynb>data table notebook</a>'\n",
              "            + ' to learn more about interactive tables.';\n",
              "          element.innerHTML = '';\n",
              "          dataTable['output_type'] = 'display_data';\n",
              "          await google.colab.output.renderOutput(dataTable, element);\n",
              "          const docLink = document.createElement('div');\n",
              "          docLink.innerHTML = docLinkHtml;\n",
              "          element.appendChild(docLink);\n",
              "        }\n",
              "      </script>\n",
              "    </div>\n",
              "  </div>\n",
              "  "
            ]
          },
          "metadata": {},
          "execution_count": 81
        }
      ]
    },
    {
      "cell_type": "markdown",
      "source": [
        "Results:\n",
        "\n",
        "* Mean of Extraversion: positive correlation, significant at 5% (p-value=0.0483)"
      ],
      "metadata": {
        "id": "3gHb5AMdcMu6"
      }
    },
    {
      "cell_type": "markdown",
      "source": [
        "## Using Data 2"
      ],
      "metadata": {
        "id": "WPyh8e8Udnxv"
      }
    },
    {
      "cell_type": "markdown",
      "source": [
        "### Running linear regression with one single personality trait variable as predictor"
      ],
      "metadata": {
        "id": "LPzvlRS0dw9k"
      }
    },
    {
      "cell_type": "code",
      "source": [
        "#define response variable\n",
        "y = dat2['performance']\n",
        "#create empty result dataframe\n",
        "results2_1=pd.DataFrame(columns = ['Var','Coef','p-value'])\n",
        "for i in range(1,20,1):\n",
        "  #define predictor variables\n",
        "  x=dat2[dat2.columns[i]]\n",
        "  #add constant to predictor variables\n",
        "  x = sm.add_constant(x)  \n",
        "  #fit linear regression model\n",
        "  model = sm.OLS(y, x).fit()\n",
        "  results2_1 = results2_1.append({'Var':dat2.columns[i],'Coef':model.params[1],'p-value':model.pvalues[1]},ignore_index = True)"
      ],
      "metadata": {
        "colab": {
          "base_uri": "https://localhost:8080/"
        },
        "id": "nTp3q3ZEdyKP",
        "outputId": "d4f1110d-b3a0-4151-8d8a-98a4bd151d61"
      },
      "execution_count": 82,
      "outputs": [
        {
          "output_type": "stream",
          "name": "stderr",
          "text": [
            "/usr/local/lib/python3.8/dist-packages/statsmodels/tsa/tsatools.py:142: FutureWarning: In a future version of pandas all arguments of concat except for the argument 'objs' will be keyword-only\n",
            "  x = pd.concat(x[::order], 1)\n",
            "/usr/local/lib/python3.8/dist-packages/statsmodels/tsa/tsatools.py:142: FutureWarning: In a future version of pandas all arguments of concat except for the argument 'objs' will be keyword-only\n",
            "  x = pd.concat(x[::order], 1)\n",
            "/usr/local/lib/python3.8/dist-packages/statsmodels/tsa/tsatools.py:142: FutureWarning: In a future version of pandas all arguments of concat except for the argument 'objs' will be keyword-only\n",
            "  x = pd.concat(x[::order], 1)\n",
            "/usr/local/lib/python3.8/dist-packages/statsmodels/tsa/tsatools.py:142: FutureWarning: In a future version of pandas all arguments of concat except for the argument 'objs' will be keyword-only\n",
            "  x = pd.concat(x[::order], 1)\n",
            "/usr/local/lib/python3.8/dist-packages/statsmodels/tsa/tsatools.py:142: FutureWarning: In a future version of pandas all arguments of concat except for the argument 'objs' will be keyword-only\n",
            "  x = pd.concat(x[::order], 1)\n",
            "/usr/local/lib/python3.8/dist-packages/statsmodels/tsa/tsatools.py:142: FutureWarning: In a future version of pandas all arguments of concat except for the argument 'objs' will be keyword-only\n",
            "  x = pd.concat(x[::order], 1)\n",
            "/usr/local/lib/python3.8/dist-packages/statsmodels/tsa/tsatools.py:142: FutureWarning: In a future version of pandas all arguments of concat except for the argument 'objs' will be keyword-only\n",
            "  x = pd.concat(x[::order], 1)\n",
            "/usr/local/lib/python3.8/dist-packages/statsmodels/tsa/tsatools.py:142: FutureWarning: In a future version of pandas all arguments of concat except for the argument 'objs' will be keyword-only\n",
            "  x = pd.concat(x[::order], 1)\n",
            "/usr/local/lib/python3.8/dist-packages/statsmodels/tsa/tsatools.py:142: FutureWarning: In a future version of pandas all arguments of concat except for the argument 'objs' will be keyword-only\n",
            "  x = pd.concat(x[::order], 1)\n",
            "/usr/local/lib/python3.8/dist-packages/statsmodels/tsa/tsatools.py:142: FutureWarning: In a future version of pandas all arguments of concat except for the argument 'objs' will be keyword-only\n",
            "  x = pd.concat(x[::order], 1)\n",
            "/usr/local/lib/python3.8/dist-packages/statsmodels/tsa/tsatools.py:142: FutureWarning: In a future version of pandas all arguments of concat except for the argument 'objs' will be keyword-only\n",
            "  x = pd.concat(x[::order], 1)\n",
            "/usr/local/lib/python3.8/dist-packages/statsmodels/tsa/tsatools.py:142: FutureWarning: In a future version of pandas all arguments of concat except for the argument 'objs' will be keyword-only\n",
            "  x = pd.concat(x[::order], 1)\n",
            "/usr/local/lib/python3.8/dist-packages/statsmodels/tsa/tsatools.py:142: FutureWarning: In a future version of pandas all arguments of concat except for the argument 'objs' will be keyword-only\n",
            "  x = pd.concat(x[::order], 1)\n",
            "/usr/local/lib/python3.8/dist-packages/statsmodels/tsa/tsatools.py:142: FutureWarning: In a future version of pandas all arguments of concat except for the argument 'objs' will be keyword-only\n",
            "  x = pd.concat(x[::order], 1)\n",
            "/usr/local/lib/python3.8/dist-packages/statsmodels/tsa/tsatools.py:142: FutureWarning: In a future version of pandas all arguments of concat except for the argument 'objs' will be keyword-only\n",
            "  x = pd.concat(x[::order], 1)\n",
            "/usr/local/lib/python3.8/dist-packages/statsmodels/tsa/tsatools.py:142: FutureWarning: In a future version of pandas all arguments of concat except for the argument 'objs' will be keyword-only\n",
            "  x = pd.concat(x[::order], 1)\n",
            "/usr/local/lib/python3.8/dist-packages/statsmodels/tsa/tsatools.py:142: FutureWarning: In a future version of pandas all arguments of concat except for the argument 'objs' will be keyword-only\n",
            "  x = pd.concat(x[::order], 1)\n",
            "/usr/local/lib/python3.8/dist-packages/statsmodels/tsa/tsatools.py:142: FutureWarning: In a future version of pandas all arguments of concat except for the argument 'objs' will be keyword-only\n",
            "  x = pd.concat(x[::order], 1)\n",
            "/usr/local/lib/python3.8/dist-packages/statsmodels/tsa/tsatools.py:142: FutureWarning: In a future version of pandas all arguments of concat except for the argument 'objs' will be keyword-only\n",
            "  x = pd.concat(x[::order], 1)\n"
          ]
        }
      ]
    },
    {
      "cell_type": "code",
      "source": [
        "results2_1"
      ],
      "metadata": {
        "colab": {
          "base_uri": "https://localhost:8080/",
          "height": 645
        },
        "id": "KoDhKGyoeFAg",
        "outputId": "d0f5ab22-93a9-4aa8-e0f3-6a067f4c2179"
      },
      "execution_count": 83,
      "outputs": [
        {
          "output_type": "execute_result",
          "data": {
            "text/plain": [
              "               Var      Coef   p-value\n",
              "0    neur_all_mean -2.973272  0.231684\n",
              "1    extr_all_mean -0.077543  0.971604\n",
              "2    open_all_mean  3.994989  0.209643\n",
              "3   agree_all_mean -1.558127  0.575306\n",
              "4    cons_all_mean -0.881569  0.767161\n",
              "5      neur_all_sd -3.987107  0.233573\n",
              "6      extr_all_sd  0.138792  0.963981\n",
              "7      open_all_sd -5.305839  0.211034\n",
              "8     agree_all_sd  0.405995  0.903469\n",
              "9      cons_all_sd  1.245451  0.731986\n",
              "10    neur_all_min  0.557843  0.830029\n",
              "11    extr_all_min -0.273961  0.851619\n",
              "12    open_all_min  2.865059  0.138721\n",
              "13   agree_all_min -1.332487  0.431377\n",
              "14    cons_all_min -0.470491  0.749221\n",
              "15    neur_all_max -1.296086  0.375543\n",
              "16    extr_all_max  0.675034  0.766472\n",
              "17    open_all_max  3.280865  0.258763\n",
              "18   agree_all_max  0.287796  0.902330"
            ],
            "text/html": [
              "\n",
              "  <div id=\"df-2eca74c4-63b5-4b97-bd99-8f88b5bfd78e\">\n",
              "    <div class=\"colab-df-container\">\n",
              "      <div>\n",
              "<style scoped>\n",
              "    .dataframe tbody tr th:only-of-type {\n",
              "        vertical-align: middle;\n",
              "    }\n",
              "\n",
              "    .dataframe tbody tr th {\n",
              "        vertical-align: top;\n",
              "    }\n",
              "\n",
              "    .dataframe thead th {\n",
              "        text-align: right;\n",
              "    }\n",
              "</style>\n",
              "<table border=\"1\" class=\"dataframe\">\n",
              "  <thead>\n",
              "    <tr style=\"text-align: right;\">\n",
              "      <th></th>\n",
              "      <th>Var</th>\n",
              "      <th>Coef</th>\n",
              "      <th>p-value</th>\n",
              "    </tr>\n",
              "  </thead>\n",
              "  <tbody>\n",
              "    <tr>\n",
              "      <th>0</th>\n",
              "      <td>neur_all_mean</td>\n",
              "      <td>-2.973272</td>\n",
              "      <td>0.231684</td>\n",
              "    </tr>\n",
              "    <tr>\n",
              "      <th>1</th>\n",
              "      <td>extr_all_mean</td>\n",
              "      <td>-0.077543</td>\n",
              "      <td>0.971604</td>\n",
              "    </tr>\n",
              "    <tr>\n",
              "      <th>2</th>\n",
              "      <td>open_all_mean</td>\n",
              "      <td>3.994989</td>\n",
              "      <td>0.209643</td>\n",
              "    </tr>\n",
              "    <tr>\n",
              "      <th>3</th>\n",
              "      <td>agree_all_mean</td>\n",
              "      <td>-1.558127</td>\n",
              "      <td>0.575306</td>\n",
              "    </tr>\n",
              "    <tr>\n",
              "      <th>4</th>\n",
              "      <td>cons_all_mean</td>\n",
              "      <td>-0.881569</td>\n",
              "      <td>0.767161</td>\n",
              "    </tr>\n",
              "    <tr>\n",
              "      <th>5</th>\n",
              "      <td>neur_all_sd</td>\n",
              "      <td>-3.987107</td>\n",
              "      <td>0.233573</td>\n",
              "    </tr>\n",
              "    <tr>\n",
              "      <th>6</th>\n",
              "      <td>extr_all_sd</td>\n",
              "      <td>0.138792</td>\n",
              "      <td>0.963981</td>\n",
              "    </tr>\n",
              "    <tr>\n",
              "      <th>7</th>\n",
              "      <td>open_all_sd</td>\n",
              "      <td>-5.305839</td>\n",
              "      <td>0.211034</td>\n",
              "    </tr>\n",
              "    <tr>\n",
              "      <th>8</th>\n",
              "      <td>agree_all_sd</td>\n",
              "      <td>0.405995</td>\n",
              "      <td>0.903469</td>\n",
              "    </tr>\n",
              "    <tr>\n",
              "      <th>9</th>\n",
              "      <td>cons_all_sd</td>\n",
              "      <td>1.245451</td>\n",
              "      <td>0.731986</td>\n",
              "    </tr>\n",
              "    <tr>\n",
              "      <th>10</th>\n",
              "      <td>neur_all_min</td>\n",
              "      <td>0.557843</td>\n",
              "      <td>0.830029</td>\n",
              "    </tr>\n",
              "    <tr>\n",
              "      <th>11</th>\n",
              "      <td>extr_all_min</td>\n",
              "      <td>-0.273961</td>\n",
              "      <td>0.851619</td>\n",
              "    </tr>\n",
              "    <tr>\n",
              "      <th>12</th>\n",
              "      <td>open_all_min</td>\n",
              "      <td>2.865059</td>\n",
              "      <td>0.138721</td>\n",
              "    </tr>\n",
              "    <tr>\n",
              "      <th>13</th>\n",
              "      <td>agree_all_min</td>\n",
              "      <td>-1.332487</td>\n",
              "      <td>0.431377</td>\n",
              "    </tr>\n",
              "    <tr>\n",
              "      <th>14</th>\n",
              "      <td>cons_all_min</td>\n",
              "      <td>-0.470491</td>\n",
              "      <td>0.749221</td>\n",
              "    </tr>\n",
              "    <tr>\n",
              "      <th>15</th>\n",
              "      <td>neur_all_max</td>\n",
              "      <td>-1.296086</td>\n",
              "      <td>0.375543</td>\n",
              "    </tr>\n",
              "    <tr>\n",
              "      <th>16</th>\n",
              "      <td>extr_all_max</td>\n",
              "      <td>0.675034</td>\n",
              "      <td>0.766472</td>\n",
              "    </tr>\n",
              "    <tr>\n",
              "      <th>17</th>\n",
              "      <td>open_all_max</td>\n",
              "      <td>3.280865</td>\n",
              "      <td>0.258763</td>\n",
              "    </tr>\n",
              "    <tr>\n",
              "      <th>18</th>\n",
              "      <td>agree_all_max</td>\n",
              "      <td>0.287796</td>\n",
              "      <td>0.902330</td>\n",
              "    </tr>\n",
              "  </tbody>\n",
              "</table>\n",
              "</div>\n",
              "      <button class=\"colab-df-convert\" onclick=\"convertToInteractive('df-2eca74c4-63b5-4b97-bd99-8f88b5bfd78e')\"\n",
              "              title=\"Convert this dataframe to an interactive table.\"\n",
              "              style=\"display:none;\">\n",
              "        \n",
              "  <svg xmlns=\"http://www.w3.org/2000/svg\" height=\"24px\"viewBox=\"0 0 24 24\"\n",
              "       width=\"24px\">\n",
              "    <path d=\"M0 0h24v24H0V0z\" fill=\"none\"/>\n",
              "    <path d=\"M18.56 5.44l.94 2.06.94-2.06 2.06-.94-2.06-.94-.94-2.06-.94 2.06-2.06.94zm-11 1L8.5 8.5l.94-2.06 2.06-.94-2.06-.94L8.5 2.5l-.94 2.06-2.06.94zm10 10l.94 2.06.94-2.06 2.06-.94-2.06-.94-.94-2.06-.94 2.06-2.06.94z\"/><path d=\"M17.41 7.96l-1.37-1.37c-.4-.4-.92-.59-1.43-.59-.52 0-1.04.2-1.43.59L10.3 9.45l-7.72 7.72c-.78.78-.78 2.05 0 2.83L4 21.41c.39.39.9.59 1.41.59.51 0 1.02-.2 1.41-.59l7.78-7.78 2.81-2.81c.8-.78.8-2.07 0-2.86zM5.41 20L4 18.59l7.72-7.72 1.47 1.35L5.41 20z\"/>\n",
              "  </svg>\n",
              "      </button>\n",
              "      \n",
              "  <style>\n",
              "    .colab-df-container {\n",
              "      display:flex;\n",
              "      flex-wrap:wrap;\n",
              "      gap: 12px;\n",
              "    }\n",
              "\n",
              "    .colab-df-convert {\n",
              "      background-color: #E8F0FE;\n",
              "      border: none;\n",
              "      border-radius: 50%;\n",
              "      cursor: pointer;\n",
              "      display: none;\n",
              "      fill: #1967D2;\n",
              "      height: 32px;\n",
              "      padding: 0 0 0 0;\n",
              "      width: 32px;\n",
              "    }\n",
              "\n",
              "    .colab-df-convert:hover {\n",
              "      background-color: #E2EBFA;\n",
              "      box-shadow: 0px 1px 2px rgba(60, 64, 67, 0.3), 0px 1px 3px 1px rgba(60, 64, 67, 0.15);\n",
              "      fill: #174EA6;\n",
              "    }\n",
              "\n",
              "    [theme=dark] .colab-df-convert {\n",
              "      background-color: #3B4455;\n",
              "      fill: #D2E3FC;\n",
              "    }\n",
              "\n",
              "    [theme=dark] .colab-df-convert:hover {\n",
              "      background-color: #434B5C;\n",
              "      box-shadow: 0px 1px 3px 1px rgba(0, 0, 0, 0.15);\n",
              "      filter: drop-shadow(0px 1px 2px rgba(0, 0, 0, 0.3));\n",
              "      fill: #FFFFFF;\n",
              "    }\n",
              "  </style>\n",
              "\n",
              "      <script>\n",
              "        const buttonEl =\n",
              "          document.querySelector('#df-2eca74c4-63b5-4b97-bd99-8f88b5bfd78e button.colab-df-convert');\n",
              "        buttonEl.style.display =\n",
              "          google.colab.kernel.accessAllowed ? 'block' : 'none';\n",
              "\n",
              "        async function convertToInteractive(key) {\n",
              "          const element = document.querySelector('#df-2eca74c4-63b5-4b97-bd99-8f88b5bfd78e');\n",
              "          const dataTable =\n",
              "            await google.colab.kernel.invokeFunction('convertToInteractive',\n",
              "                                                     [key], {});\n",
              "          if (!dataTable) return;\n",
              "\n",
              "          const docLinkHtml = 'Like what you see? Visit the ' +\n",
              "            '<a target=\"_blank\" href=https://colab.research.google.com/notebooks/data_table.ipynb>data table notebook</a>'\n",
              "            + ' to learn more about interactive tables.';\n",
              "          element.innerHTML = '';\n",
              "          dataTable['output_type'] = 'display_data';\n",
              "          await google.colab.output.renderOutput(dataTable, element);\n",
              "          const docLink = document.createElement('div');\n",
              "          docLink.innerHTML = docLinkHtml;\n",
              "          element.appendChild(docLink);\n",
              "        }\n",
              "      </script>\n",
              "    </div>\n",
              "  </div>\n",
              "  "
            ]
          },
          "metadata": {},
          "execution_count": 83
        }
      ]
    },
    {
      "cell_type": "markdown",
      "source": [
        "Results:\n",
        "\n",
        "* No significant results"
      ],
      "metadata": {
        "id": "o_lhWDN6eMcV"
      }
    },
    {
      "cell_type": "markdown",
      "source": [
        "### Running linear regressions with multiple personality trait variables"
      ],
      "metadata": {
        "id": "i6clmPJGeYhD"
      }
    },
    {
      "cell_type": "markdown",
      "source": [
        "#### Including all means"
      ],
      "metadata": {
        "id": "TEnPiSmNegoo"
      }
    },
    {
      "cell_type": "code",
      "source": [
        "#define response variable\n",
        "y = dat2['performance']\n",
        "#define predictor variables\n",
        "x=dat2[dat2.columns[1:6]]\n",
        "#add constant to predictor variables\n",
        "x = sm.add_constant(x)\n",
        "#fit linear regression model\n",
        "model = sm.OLS(y, x).fit()\n",
        "results2_2 = pd.DataFrame({'Coef':model.params[1:6],'p-value':model.pvalues[1:6]})"
      ],
      "metadata": {
        "colab": {
          "base_uri": "https://localhost:8080/"
        },
        "id": "mK7Y9Ftaek4d",
        "outputId": "184293a0-7a9e-4b56-f2b0-1a75b9f9cf74"
      },
      "execution_count": 84,
      "outputs": [
        {
          "output_type": "stream",
          "name": "stderr",
          "text": [
            "/usr/local/lib/python3.8/dist-packages/statsmodels/tsa/tsatools.py:142: FutureWarning: In a future version of pandas all arguments of concat except for the argument 'objs' will be keyword-only\n",
            "  x = pd.concat(x[::order], 1)\n"
          ]
        }
      ]
    },
    {
      "cell_type": "code",
      "source": [
        "results2_2"
      ],
      "metadata": {
        "colab": {
          "base_uri": "https://localhost:8080/",
          "height": 206
        },
        "id": "Kthnr0gee5wC",
        "outputId": "d50942d8-de7c-4d25-c0ef-77c82a1f0696"
      },
      "execution_count": 85,
      "outputs": [
        {
          "output_type": "execute_result",
          "data": {
            "text/plain": [
              "                           Var      Coef   p-value\n",
              "neur_all_mean    neur_all_mean -3.159522  0.221327\n",
              "extr_all_mean    extr_all_mean -1.016903  0.655592\n",
              "open_all_mean    open_all_mean  3.963461  0.231940\n",
              "agree_all_mean  agree_all_mean -2.443554  0.403938\n",
              "cons_all_mean    cons_all_mean -1.295917  0.667037"
            ],
            "text/html": [
              "\n",
              "  <div id=\"df-f1ad33e7-e5ba-419b-81ec-18c8476b4a34\">\n",
              "    <div class=\"colab-df-container\">\n",
              "      <div>\n",
              "<style scoped>\n",
              "    .dataframe tbody tr th:only-of-type {\n",
              "        vertical-align: middle;\n",
              "    }\n",
              "\n",
              "    .dataframe tbody tr th {\n",
              "        vertical-align: top;\n",
              "    }\n",
              "\n",
              "    .dataframe thead th {\n",
              "        text-align: right;\n",
              "    }\n",
              "</style>\n",
              "<table border=\"1\" class=\"dataframe\">\n",
              "  <thead>\n",
              "    <tr style=\"text-align: right;\">\n",
              "      <th></th>\n",
              "      <th>Var</th>\n",
              "      <th>Coef</th>\n",
              "      <th>p-value</th>\n",
              "    </tr>\n",
              "  </thead>\n",
              "  <tbody>\n",
              "    <tr>\n",
              "      <th>neur_all_mean</th>\n",
              "      <td>neur_all_mean</td>\n",
              "      <td>-3.159522</td>\n",
              "      <td>0.221327</td>\n",
              "    </tr>\n",
              "    <tr>\n",
              "      <th>extr_all_mean</th>\n",
              "      <td>extr_all_mean</td>\n",
              "      <td>-1.016903</td>\n",
              "      <td>0.655592</td>\n",
              "    </tr>\n",
              "    <tr>\n",
              "      <th>open_all_mean</th>\n",
              "      <td>open_all_mean</td>\n",
              "      <td>3.963461</td>\n",
              "      <td>0.231940</td>\n",
              "    </tr>\n",
              "    <tr>\n",
              "      <th>agree_all_mean</th>\n",
              "      <td>agree_all_mean</td>\n",
              "      <td>-2.443554</td>\n",
              "      <td>0.403938</td>\n",
              "    </tr>\n",
              "    <tr>\n",
              "      <th>cons_all_mean</th>\n",
              "      <td>cons_all_mean</td>\n",
              "      <td>-1.295917</td>\n",
              "      <td>0.667037</td>\n",
              "    </tr>\n",
              "  </tbody>\n",
              "</table>\n",
              "</div>\n",
              "      <button class=\"colab-df-convert\" onclick=\"convertToInteractive('df-f1ad33e7-e5ba-419b-81ec-18c8476b4a34')\"\n",
              "              title=\"Convert this dataframe to an interactive table.\"\n",
              "              style=\"display:none;\">\n",
              "        \n",
              "  <svg xmlns=\"http://www.w3.org/2000/svg\" height=\"24px\"viewBox=\"0 0 24 24\"\n",
              "       width=\"24px\">\n",
              "    <path d=\"M0 0h24v24H0V0z\" fill=\"none\"/>\n",
              "    <path d=\"M18.56 5.44l.94 2.06.94-2.06 2.06-.94-2.06-.94-.94-2.06-.94 2.06-2.06.94zm-11 1L8.5 8.5l.94-2.06 2.06-.94-2.06-.94L8.5 2.5l-.94 2.06-2.06.94zm10 10l.94 2.06.94-2.06 2.06-.94-2.06-.94-.94-2.06-.94 2.06-2.06.94z\"/><path d=\"M17.41 7.96l-1.37-1.37c-.4-.4-.92-.59-1.43-.59-.52 0-1.04.2-1.43.59L10.3 9.45l-7.72 7.72c-.78.78-.78 2.05 0 2.83L4 21.41c.39.39.9.59 1.41.59.51 0 1.02-.2 1.41-.59l7.78-7.78 2.81-2.81c.8-.78.8-2.07 0-2.86zM5.41 20L4 18.59l7.72-7.72 1.47 1.35L5.41 20z\"/>\n",
              "  </svg>\n",
              "      </button>\n",
              "      \n",
              "  <style>\n",
              "    .colab-df-container {\n",
              "      display:flex;\n",
              "      flex-wrap:wrap;\n",
              "      gap: 12px;\n",
              "    }\n",
              "\n",
              "    .colab-df-convert {\n",
              "      background-color: #E8F0FE;\n",
              "      border: none;\n",
              "      border-radius: 50%;\n",
              "      cursor: pointer;\n",
              "      display: none;\n",
              "      fill: #1967D2;\n",
              "      height: 32px;\n",
              "      padding: 0 0 0 0;\n",
              "      width: 32px;\n",
              "    }\n",
              "\n",
              "    .colab-df-convert:hover {\n",
              "      background-color: #E2EBFA;\n",
              "      box-shadow: 0px 1px 2px rgba(60, 64, 67, 0.3), 0px 1px 3px 1px rgba(60, 64, 67, 0.15);\n",
              "      fill: #174EA6;\n",
              "    }\n",
              "\n",
              "    [theme=dark] .colab-df-convert {\n",
              "      background-color: #3B4455;\n",
              "      fill: #D2E3FC;\n",
              "    }\n",
              "\n",
              "    [theme=dark] .colab-df-convert:hover {\n",
              "      background-color: #434B5C;\n",
              "      box-shadow: 0px 1px 3px 1px rgba(0, 0, 0, 0.15);\n",
              "      filter: drop-shadow(0px 1px 2px rgba(0, 0, 0, 0.3));\n",
              "      fill: #FFFFFF;\n",
              "    }\n",
              "  </style>\n",
              "\n",
              "      <script>\n",
              "        const buttonEl =\n",
              "          document.querySelector('#df-f1ad33e7-e5ba-419b-81ec-18c8476b4a34 button.colab-df-convert');\n",
              "        buttonEl.style.display =\n",
              "          google.colab.kernel.accessAllowed ? 'block' : 'none';\n",
              "\n",
              "        async function convertToInteractive(key) {\n",
              "          const element = document.querySelector('#df-f1ad33e7-e5ba-419b-81ec-18c8476b4a34');\n",
              "          const dataTable =\n",
              "            await google.colab.kernel.invokeFunction('convertToInteractive',\n",
              "                                                     [key], {});\n",
              "          if (!dataTable) return;\n",
              "\n",
              "          const docLinkHtml = 'Like what you see? Visit the ' +\n",
              "            '<a target=\"_blank\" href=https://colab.research.google.com/notebooks/data_table.ipynb>data table notebook</a>'\n",
              "            + ' to learn more about interactive tables.';\n",
              "          element.innerHTML = '';\n",
              "          dataTable['output_type'] = 'display_data';\n",
              "          await google.colab.output.renderOutput(dataTable, element);\n",
              "          const docLink = document.createElement('div');\n",
              "          docLink.innerHTML = docLinkHtml;\n",
              "          element.appendChild(docLink);\n",
              "        }\n",
              "      </script>\n",
              "    </div>\n",
              "  </div>\n",
              "  "
            ]
          },
          "metadata": {},
          "execution_count": 85
        }
      ]
    },
    {
      "cell_type": "markdown",
      "source": [
        "Results:\n",
        "\n",
        "* No significant results"
      ],
      "metadata": {
        "id": "23Lrk-3ne-Xi"
      }
    },
    {
      "cell_type": "markdown",
      "source": [
        "#### Including all variances"
      ],
      "metadata": {
        "id": "tEgIfk0He_FZ"
      }
    },
    {
      "cell_type": "code",
      "source": [
        "#define response variable\n",
        "y = dat2['performance']\n",
        "#define predictor variables\n",
        "x=dat2[dat2.columns[6:11]]\n",
        "#add constant to predictor variables\n",
        "x = sm.add_constant(x)\n",
        "#fit linear regression model\n",
        "model = sm.OLS(y, x).fit()\n",
        "results2_3 = pd.DataFrame({'Coef':model.params[1:6],'p-value':model.pvalues[1:6]})"
      ],
      "metadata": {
        "colab": {
          "base_uri": "https://localhost:8080/"
        },
        "id": "c0f8Ga2rfQVW",
        "outputId": "d116ff21-0d01-4f24-9147-b46acdecde51"
      },
      "execution_count": 87,
      "outputs": [
        {
          "output_type": "stream",
          "name": "stderr",
          "text": [
            "/usr/local/lib/python3.8/dist-packages/statsmodels/tsa/tsatools.py:142: FutureWarning: In a future version of pandas all arguments of concat except for the argument 'objs' will be keyword-only\n",
            "  x = pd.concat(x[::order], 1)\n"
          ]
        }
      ]
    },
    {
      "cell_type": "code",
      "source": [
        "results2_3"
      ],
      "metadata": {
        "colab": {
          "base_uri": "https://localhost:8080/",
          "height": 206
        },
        "id": "Ho1ih6qifuNj",
        "outputId": "fdd3d4b9-d6a4-440c-a6e7-9ded00ff8d13"
      },
      "execution_count": 88,
      "outputs": [
        {
          "output_type": "execute_result",
          "data": {
            "text/plain": [
              "                  Coef   p-value\n",
              "neur_all_sd  -4.135351  0.227884\n",
              "extr_all_sd  -0.101742  0.974118\n",
              "open_all_sd  -5.201999  0.226595\n",
              "agree_all_sd  1.273006  0.710360\n",
              "cons_all_sd   1.314289  0.723992"
            ],
            "text/html": [
              "\n",
              "  <div id=\"df-517f14d0-10c5-456c-a85f-741c5180d5d8\">\n",
              "    <div class=\"colab-df-container\">\n",
              "      <div>\n",
              "<style scoped>\n",
              "    .dataframe tbody tr th:only-of-type {\n",
              "        vertical-align: middle;\n",
              "    }\n",
              "\n",
              "    .dataframe tbody tr th {\n",
              "        vertical-align: top;\n",
              "    }\n",
              "\n",
              "    .dataframe thead th {\n",
              "        text-align: right;\n",
              "    }\n",
              "</style>\n",
              "<table border=\"1\" class=\"dataframe\">\n",
              "  <thead>\n",
              "    <tr style=\"text-align: right;\">\n",
              "      <th></th>\n",
              "      <th>Coef</th>\n",
              "      <th>p-value</th>\n",
              "    </tr>\n",
              "  </thead>\n",
              "  <tbody>\n",
              "    <tr>\n",
              "      <th>neur_all_sd</th>\n",
              "      <td>-4.135351</td>\n",
              "      <td>0.227884</td>\n",
              "    </tr>\n",
              "    <tr>\n",
              "      <th>extr_all_sd</th>\n",
              "      <td>-0.101742</td>\n",
              "      <td>0.974118</td>\n",
              "    </tr>\n",
              "    <tr>\n",
              "      <th>open_all_sd</th>\n",
              "      <td>-5.201999</td>\n",
              "      <td>0.226595</td>\n",
              "    </tr>\n",
              "    <tr>\n",
              "      <th>agree_all_sd</th>\n",
              "      <td>1.273006</td>\n",
              "      <td>0.710360</td>\n",
              "    </tr>\n",
              "    <tr>\n",
              "      <th>cons_all_sd</th>\n",
              "      <td>1.314289</td>\n",
              "      <td>0.723992</td>\n",
              "    </tr>\n",
              "  </tbody>\n",
              "</table>\n",
              "</div>\n",
              "      <button class=\"colab-df-convert\" onclick=\"convertToInteractive('df-517f14d0-10c5-456c-a85f-741c5180d5d8')\"\n",
              "              title=\"Convert this dataframe to an interactive table.\"\n",
              "              style=\"display:none;\">\n",
              "        \n",
              "  <svg xmlns=\"http://www.w3.org/2000/svg\" height=\"24px\"viewBox=\"0 0 24 24\"\n",
              "       width=\"24px\">\n",
              "    <path d=\"M0 0h24v24H0V0z\" fill=\"none\"/>\n",
              "    <path d=\"M18.56 5.44l.94 2.06.94-2.06 2.06-.94-2.06-.94-.94-2.06-.94 2.06-2.06.94zm-11 1L8.5 8.5l.94-2.06 2.06-.94-2.06-.94L8.5 2.5l-.94 2.06-2.06.94zm10 10l.94 2.06.94-2.06 2.06-.94-2.06-.94-.94-2.06-.94 2.06-2.06.94z\"/><path d=\"M17.41 7.96l-1.37-1.37c-.4-.4-.92-.59-1.43-.59-.52 0-1.04.2-1.43.59L10.3 9.45l-7.72 7.72c-.78.78-.78 2.05 0 2.83L4 21.41c.39.39.9.59 1.41.59.51 0 1.02-.2 1.41-.59l7.78-7.78 2.81-2.81c.8-.78.8-2.07 0-2.86zM5.41 20L4 18.59l7.72-7.72 1.47 1.35L5.41 20z\"/>\n",
              "  </svg>\n",
              "      </button>\n",
              "      \n",
              "  <style>\n",
              "    .colab-df-container {\n",
              "      display:flex;\n",
              "      flex-wrap:wrap;\n",
              "      gap: 12px;\n",
              "    }\n",
              "\n",
              "    .colab-df-convert {\n",
              "      background-color: #E8F0FE;\n",
              "      border: none;\n",
              "      border-radius: 50%;\n",
              "      cursor: pointer;\n",
              "      display: none;\n",
              "      fill: #1967D2;\n",
              "      height: 32px;\n",
              "      padding: 0 0 0 0;\n",
              "      width: 32px;\n",
              "    }\n",
              "\n",
              "    .colab-df-convert:hover {\n",
              "      background-color: #E2EBFA;\n",
              "      box-shadow: 0px 1px 2px rgba(60, 64, 67, 0.3), 0px 1px 3px 1px rgba(60, 64, 67, 0.15);\n",
              "      fill: #174EA6;\n",
              "    }\n",
              "\n",
              "    [theme=dark] .colab-df-convert {\n",
              "      background-color: #3B4455;\n",
              "      fill: #D2E3FC;\n",
              "    }\n",
              "\n",
              "    [theme=dark] .colab-df-convert:hover {\n",
              "      background-color: #434B5C;\n",
              "      box-shadow: 0px 1px 3px 1px rgba(0, 0, 0, 0.15);\n",
              "      filter: drop-shadow(0px 1px 2px rgba(0, 0, 0, 0.3));\n",
              "      fill: #FFFFFF;\n",
              "    }\n",
              "  </style>\n",
              "\n",
              "      <script>\n",
              "        const buttonEl =\n",
              "          document.querySelector('#df-517f14d0-10c5-456c-a85f-741c5180d5d8 button.colab-df-convert');\n",
              "        buttonEl.style.display =\n",
              "          google.colab.kernel.accessAllowed ? 'block' : 'none';\n",
              "\n",
              "        async function convertToInteractive(key) {\n",
              "          const element = document.querySelector('#df-517f14d0-10c5-456c-a85f-741c5180d5d8');\n",
              "          const dataTable =\n",
              "            await google.colab.kernel.invokeFunction('convertToInteractive',\n",
              "                                                     [key], {});\n",
              "          if (!dataTable) return;\n",
              "\n",
              "          const docLinkHtml = 'Like what you see? Visit the ' +\n",
              "            '<a target=\"_blank\" href=https://colab.research.google.com/notebooks/data_table.ipynb>data table notebook</a>'\n",
              "            + ' to learn more about interactive tables.';\n",
              "          element.innerHTML = '';\n",
              "          dataTable['output_type'] = 'display_data';\n",
              "          await google.colab.output.renderOutput(dataTable, element);\n",
              "          const docLink = document.createElement('div');\n",
              "          docLink.innerHTML = docLinkHtml;\n",
              "          element.appendChild(docLink);\n",
              "        }\n",
              "      </script>\n",
              "    </div>\n",
              "  </div>\n",
              "  "
            ]
          },
          "metadata": {},
          "execution_count": 88
        }
      ]
    },
    {
      "cell_type": "markdown",
      "source": [
        "Results:\n",
        "\n",
        "* No significant results"
      ],
      "metadata": {
        "id": "mAlemsyYf3Ij"
      }
    },
    {
      "cell_type": "markdown",
      "source": [
        "#### Including all min"
      ],
      "metadata": {
        "id": "gJqMbPQkf5xn"
      }
    },
    {
      "cell_type": "code",
      "source": [
        "#define response variable\n",
        "y = dat2['performance']\n",
        "#define predictor variables\n",
        "x=dat2[dat2.columns[11:16]]\n",
        "#add constant to predictor variables\n",
        "x = sm.add_constant(x)\n",
        "#fit linear regression model\n",
        "model = sm.OLS(y, x).fit()\n",
        "results2_4 = pd.DataFrame({'Coef':model.params[1:6],'p-value':model.pvalues[1:6]})"
      ],
      "metadata": {
        "colab": {
          "base_uri": "https://localhost:8080/"
        },
        "id": "2fiI065Rf4hW",
        "outputId": "e34556e8-13d3-49ae-d573-dad9fd9bd862"
      },
      "execution_count": 89,
      "outputs": [
        {
          "output_type": "stream",
          "name": "stderr",
          "text": [
            "/usr/local/lib/python3.8/dist-packages/statsmodels/tsa/tsatools.py:142: FutureWarning: In a future version of pandas all arguments of concat except for the argument 'objs' will be keyword-only\n",
            "  x = pd.concat(x[::order], 1)\n"
          ]
        }
      ]
    },
    {
      "cell_type": "code",
      "source": [
        "results2_4"
      ],
      "metadata": {
        "colab": {
          "base_uri": "https://localhost:8080/",
          "height": 206
        },
        "id": "9HwmiqLggLQh",
        "outputId": "79901d66-1384-44d2-ab96-74f70fd100a6"
      },
      "execution_count": 90,
      "outputs": [
        {
          "output_type": "execute_result",
          "data": {
            "text/plain": [
              "                   Coef   p-value\n",
              "neur_all_min   1.526893  0.570968\n",
              "extr_all_min  -0.425221  0.773033\n",
              "open_all_min   3.140480  0.117199\n",
              "agree_all_min -1.421487  0.404771\n",
              "cons_all_min  -0.539178  0.718237"
            ],
            "text/html": [
              "\n",
              "  <div id=\"df-2262bde1-0dbf-4708-a263-d4c949cabb2b\">\n",
              "    <div class=\"colab-df-container\">\n",
              "      <div>\n",
              "<style scoped>\n",
              "    .dataframe tbody tr th:only-of-type {\n",
              "        vertical-align: middle;\n",
              "    }\n",
              "\n",
              "    .dataframe tbody tr th {\n",
              "        vertical-align: top;\n",
              "    }\n",
              "\n",
              "    .dataframe thead th {\n",
              "        text-align: right;\n",
              "    }\n",
              "</style>\n",
              "<table border=\"1\" class=\"dataframe\">\n",
              "  <thead>\n",
              "    <tr style=\"text-align: right;\">\n",
              "      <th></th>\n",
              "      <th>Coef</th>\n",
              "      <th>p-value</th>\n",
              "    </tr>\n",
              "  </thead>\n",
              "  <tbody>\n",
              "    <tr>\n",
              "      <th>neur_all_min</th>\n",
              "      <td>1.526893</td>\n",
              "      <td>0.570968</td>\n",
              "    </tr>\n",
              "    <tr>\n",
              "      <th>extr_all_min</th>\n",
              "      <td>-0.425221</td>\n",
              "      <td>0.773033</td>\n",
              "    </tr>\n",
              "    <tr>\n",
              "      <th>open_all_min</th>\n",
              "      <td>3.140480</td>\n",
              "      <td>0.117199</td>\n",
              "    </tr>\n",
              "    <tr>\n",
              "      <th>agree_all_min</th>\n",
              "      <td>-1.421487</td>\n",
              "      <td>0.404771</td>\n",
              "    </tr>\n",
              "    <tr>\n",
              "      <th>cons_all_min</th>\n",
              "      <td>-0.539178</td>\n",
              "      <td>0.718237</td>\n",
              "    </tr>\n",
              "  </tbody>\n",
              "</table>\n",
              "</div>\n",
              "      <button class=\"colab-df-convert\" onclick=\"convertToInteractive('df-2262bde1-0dbf-4708-a263-d4c949cabb2b')\"\n",
              "              title=\"Convert this dataframe to an interactive table.\"\n",
              "              style=\"display:none;\">\n",
              "        \n",
              "  <svg xmlns=\"http://www.w3.org/2000/svg\" height=\"24px\"viewBox=\"0 0 24 24\"\n",
              "       width=\"24px\">\n",
              "    <path d=\"M0 0h24v24H0V0z\" fill=\"none\"/>\n",
              "    <path d=\"M18.56 5.44l.94 2.06.94-2.06 2.06-.94-2.06-.94-.94-2.06-.94 2.06-2.06.94zm-11 1L8.5 8.5l.94-2.06 2.06-.94-2.06-.94L8.5 2.5l-.94 2.06-2.06.94zm10 10l.94 2.06.94-2.06 2.06-.94-2.06-.94-.94-2.06-.94 2.06-2.06.94z\"/><path d=\"M17.41 7.96l-1.37-1.37c-.4-.4-.92-.59-1.43-.59-.52 0-1.04.2-1.43.59L10.3 9.45l-7.72 7.72c-.78.78-.78 2.05 0 2.83L4 21.41c.39.39.9.59 1.41.59.51 0 1.02-.2 1.41-.59l7.78-7.78 2.81-2.81c.8-.78.8-2.07 0-2.86zM5.41 20L4 18.59l7.72-7.72 1.47 1.35L5.41 20z\"/>\n",
              "  </svg>\n",
              "      </button>\n",
              "      \n",
              "  <style>\n",
              "    .colab-df-container {\n",
              "      display:flex;\n",
              "      flex-wrap:wrap;\n",
              "      gap: 12px;\n",
              "    }\n",
              "\n",
              "    .colab-df-convert {\n",
              "      background-color: #E8F0FE;\n",
              "      border: none;\n",
              "      border-radius: 50%;\n",
              "      cursor: pointer;\n",
              "      display: none;\n",
              "      fill: #1967D2;\n",
              "      height: 32px;\n",
              "      padding: 0 0 0 0;\n",
              "      width: 32px;\n",
              "    }\n",
              "\n",
              "    .colab-df-convert:hover {\n",
              "      background-color: #E2EBFA;\n",
              "      box-shadow: 0px 1px 2px rgba(60, 64, 67, 0.3), 0px 1px 3px 1px rgba(60, 64, 67, 0.15);\n",
              "      fill: #174EA6;\n",
              "    }\n",
              "\n",
              "    [theme=dark] .colab-df-convert {\n",
              "      background-color: #3B4455;\n",
              "      fill: #D2E3FC;\n",
              "    }\n",
              "\n",
              "    [theme=dark] .colab-df-convert:hover {\n",
              "      background-color: #434B5C;\n",
              "      box-shadow: 0px 1px 3px 1px rgba(0, 0, 0, 0.15);\n",
              "      filter: drop-shadow(0px 1px 2px rgba(0, 0, 0, 0.3));\n",
              "      fill: #FFFFFF;\n",
              "    }\n",
              "  </style>\n",
              "\n",
              "      <script>\n",
              "        const buttonEl =\n",
              "          document.querySelector('#df-2262bde1-0dbf-4708-a263-d4c949cabb2b button.colab-df-convert');\n",
              "        buttonEl.style.display =\n",
              "          google.colab.kernel.accessAllowed ? 'block' : 'none';\n",
              "\n",
              "        async function convertToInteractive(key) {\n",
              "          const element = document.querySelector('#df-2262bde1-0dbf-4708-a263-d4c949cabb2b');\n",
              "          const dataTable =\n",
              "            await google.colab.kernel.invokeFunction('convertToInteractive',\n",
              "                                                     [key], {});\n",
              "          if (!dataTable) return;\n",
              "\n",
              "          const docLinkHtml = 'Like what you see? Visit the ' +\n",
              "            '<a target=\"_blank\" href=https://colab.research.google.com/notebooks/data_table.ipynb>data table notebook</a>'\n",
              "            + ' to learn more about interactive tables.';\n",
              "          element.innerHTML = '';\n",
              "          dataTable['output_type'] = 'display_data';\n",
              "          await google.colab.output.renderOutput(dataTable, element);\n",
              "          const docLink = document.createElement('div');\n",
              "          docLink.innerHTML = docLinkHtml;\n",
              "          element.appendChild(docLink);\n",
              "        }\n",
              "      </script>\n",
              "    </div>\n",
              "  </div>\n",
              "  "
            ]
          },
          "metadata": {},
          "execution_count": 90
        }
      ]
    },
    {
      "cell_type": "markdown",
      "source": [
        "Results:\n",
        "\n",
        "* No significant results"
      ],
      "metadata": {
        "id": "1imoVYJWgPrV"
      }
    },
    {
      "cell_type": "markdown",
      "source": [
        "#### Including all max"
      ],
      "metadata": {
        "id": "HxnPOjFLgRJ-"
      }
    },
    {
      "cell_type": "code",
      "source": [
        "#define response variable\n",
        "y = dat2['performance']\n",
        "#define predictor variables\n",
        "x=dat2[dat2.columns[16:21]]\n",
        "#add constant to predictor variables\n",
        "x = sm.add_constant(x)\n",
        "#fit linear regression model\n",
        "model = sm.OLS(y, x).fit()\n",
        "results2_5 = pd.DataFrame({'Coef':model.params[1:6],'p-value':model.pvalues[1:6]})"
      ],
      "metadata": {
        "colab": {
          "base_uri": "https://localhost:8080/"
        },
        "id": "8tPhaWRWgWEf",
        "outputId": "2a847c09-95f9-4f9b-f343-73400842ac96"
      },
      "execution_count": 92,
      "outputs": [
        {
          "output_type": "stream",
          "name": "stderr",
          "text": [
            "/usr/local/lib/python3.8/dist-packages/statsmodels/tsa/tsatools.py:142: FutureWarning: In a future version of pandas all arguments of concat except for the argument 'objs' will be keyword-only\n",
            "  x = pd.concat(x[::order], 1)\n"
          ]
        }
      ]
    },
    {
      "cell_type": "code",
      "source": [
        "results2_5"
      ],
      "metadata": {
        "colab": {
          "base_uri": "https://localhost:8080/",
          "height": 206
        },
        "id": "-fZIlBpTgahI",
        "outputId": "68327230-8b0c-486d-c898-ae2235d18e03"
      },
      "execution_count": 93,
      "outputs": [
        {
          "output_type": "execute_result",
          "data": {
            "text/plain": [
              "                   Coef   p-value\n",
              "neur_all_max  -1.254459  0.399362\n",
              "extr_all_max   0.170378  0.941783\n",
              "open_all_max   3.182223  0.289073\n",
              "agree_all_max  0.155532  0.947999\n",
              "cons_all_max   0.161697  0.964946"
            ],
            "text/html": [
              "\n",
              "  <div id=\"df-3a862962-6bf4-4b3f-bcba-eb53ece0de3b\">\n",
              "    <div class=\"colab-df-container\">\n",
              "      <div>\n",
              "<style scoped>\n",
              "    .dataframe tbody tr th:only-of-type {\n",
              "        vertical-align: middle;\n",
              "    }\n",
              "\n",
              "    .dataframe tbody tr th {\n",
              "        vertical-align: top;\n",
              "    }\n",
              "\n",
              "    .dataframe thead th {\n",
              "        text-align: right;\n",
              "    }\n",
              "</style>\n",
              "<table border=\"1\" class=\"dataframe\">\n",
              "  <thead>\n",
              "    <tr style=\"text-align: right;\">\n",
              "      <th></th>\n",
              "      <th>Coef</th>\n",
              "      <th>p-value</th>\n",
              "    </tr>\n",
              "  </thead>\n",
              "  <tbody>\n",
              "    <tr>\n",
              "      <th>neur_all_max</th>\n",
              "      <td>-1.254459</td>\n",
              "      <td>0.399362</td>\n",
              "    </tr>\n",
              "    <tr>\n",
              "      <th>extr_all_max</th>\n",
              "      <td>0.170378</td>\n",
              "      <td>0.941783</td>\n",
              "    </tr>\n",
              "    <tr>\n",
              "      <th>open_all_max</th>\n",
              "      <td>3.182223</td>\n",
              "      <td>0.289073</td>\n",
              "    </tr>\n",
              "    <tr>\n",
              "      <th>agree_all_max</th>\n",
              "      <td>0.155532</td>\n",
              "      <td>0.947999</td>\n",
              "    </tr>\n",
              "    <tr>\n",
              "      <th>cons_all_max</th>\n",
              "      <td>0.161697</td>\n",
              "      <td>0.964946</td>\n",
              "    </tr>\n",
              "  </tbody>\n",
              "</table>\n",
              "</div>\n",
              "      <button class=\"colab-df-convert\" onclick=\"convertToInteractive('df-3a862962-6bf4-4b3f-bcba-eb53ece0de3b')\"\n",
              "              title=\"Convert this dataframe to an interactive table.\"\n",
              "              style=\"display:none;\">\n",
              "        \n",
              "  <svg xmlns=\"http://www.w3.org/2000/svg\" height=\"24px\"viewBox=\"0 0 24 24\"\n",
              "       width=\"24px\">\n",
              "    <path d=\"M0 0h24v24H0V0z\" fill=\"none\"/>\n",
              "    <path d=\"M18.56 5.44l.94 2.06.94-2.06 2.06-.94-2.06-.94-.94-2.06-.94 2.06-2.06.94zm-11 1L8.5 8.5l.94-2.06 2.06-.94-2.06-.94L8.5 2.5l-.94 2.06-2.06.94zm10 10l.94 2.06.94-2.06 2.06-.94-2.06-.94-.94-2.06-.94 2.06-2.06.94z\"/><path d=\"M17.41 7.96l-1.37-1.37c-.4-.4-.92-.59-1.43-.59-.52 0-1.04.2-1.43.59L10.3 9.45l-7.72 7.72c-.78.78-.78 2.05 0 2.83L4 21.41c.39.39.9.59 1.41.59.51 0 1.02-.2 1.41-.59l7.78-7.78 2.81-2.81c.8-.78.8-2.07 0-2.86zM5.41 20L4 18.59l7.72-7.72 1.47 1.35L5.41 20z\"/>\n",
              "  </svg>\n",
              "      </button>\n",
              "      \n",
              "  <style>\n",
              "    .colab-df-container {\n",
              "      display:flex;\n",
              "      flex-wrap:wrap;\n",
              "      gap: 12px;\n",
              "    }\n",
              "\n",
              "    .colab-df-convert {\n",
              "      background-color: #E8F0FE;\n",
              "      border: none;\n",
              "      border-radius: 50%;\n",
              "      cursor: pointer;\n",
              "      display: none;\n",
              "      fill: #1967D2;\n",
              "      height: 32px;\n",
              "      padding: 0 0 0 0;\n",
              "      width: 32px;\n",
              "    }\n",
              "\n",
              "    .colab-df-convert:hover {\n",
              "      background-color: #E2EBFA;\n",
              "      box-shadow: 0px 1px 2px rgba(60, 64, 67, 0.3), 0px 1px 3px 1px rgba(60, 64, 67, 0.15);\n",
              "      fill: #174EA6;\n",
              "    }\n",
              "\n",
              "    [theme=dark] .colab-df-convert {\n",
              "      background-color: #3B4455;\n",
              "      fill: #D2E3FC;\n",
              "    }\n",
              "\n",
              "    [theme=dark] .colab-df-convert:hover {\n",
              "      background-color: #434B5C;\n",
              "      box-shadow: 0px 1px 3px 1px rgba(0, 0, 0, 0.15);\n",
              "      filter: drop-shadow(0px 1px 2px rgba(0, 0, 0, 0.3));\n",
              "      fill: #FFFFFF;\n",
              "    }\n",
              "  </style>\n",
              "\n",
              "      <script>\n",
              "        const buttonEl =\n",
              "          document.querySelector('#df-3a862962-6bf4-4b3f-bcba-eb53ece0de3b button.colab-df-convert');\n",
              "        buttonEl.style.display =\n",
              "          google.colab.kernel.accessAllowed ? 'block' : 'none';\n",
              "\n",
              "        async function convertToInteractive(key) {\n",
              "          const element = document.querySelector('#df-3a862962-6bf4-4b3f-bcba-eb53ece0de3b');\n",
              "          const dataTable =\n",
              "            await google.colab.kernel.invokeFunction('convertToInteractive',\n",
              "                                                     [key], {});\n",
              "          if (!dataTable) return;\n",
              "\n",
              "          const docLinkHtml = 'Like what you see? Visit the ' +\n",
              "            '<a target=\"_blank\" href=https://colab.research.google.com/notebooks/data_table.ipynb>data table notebook</a>'\n",
              "            + ' to learn more about interactive tables.';\n",
              "          element.innerHTML = '';\n",
              "          dataTable['output_type'] = 'display_data';\n",
              "          await google.colab.output.renderOutput(dataTable, element);\n",
              "          const docLink = document.createElement('div');\n",
              "          docLink.innerHTML = docLinkHtml;\n",
              "          element.appendChild(docLink);\n",
              "        }\n",
              "      </script>\n",
              "    </div>\n",
              "  </div>\n",
              "  "
            ]
          },
          "metadata": {},
          "execution_count": 93
        }
      ]
    },
    {
      "cell_type": "markdown",
      "source": [
        "Results:\n",
        "\n",
        "* No significant results"
      ],
      "metadata": {
        "id": "EoJ322dkgeV_"
      }
    },
    {
      "cell_type": "markdown",
      "source": [
        "#### Including all means and variances"
      ],
      "metadata": {
        "id": "X3RrsR6MggTF"
      }
    },
    {
      "cell_type": "code",
      "source": [
        "#define response variable\n",
        "y = dat2['performance']\n",
        "#define predictor variables\n",
        "x=dat2[dat2.columns[1:11]]\n",
        "#add constant to predictor variables\n",
        "x = sm.add_constant(x)\n",
        "#fit linear regression model\n",
        "model = sm.OLS(y, x).fit()\n",
        "results2_6 = pd.DataFrame({'Coef':model.params[1:11],'p-value':model.pvalues[1:11]})"
      ],
      "metadata": {
        "colab": {
          "base_uri": "https://localhost:8080/"
        },
        "id": "Gj4kxPZTgmvH",
        "outputId": "e3f353e1-3204-4a64-90fd-5df28e28daed"
      },
      "execution_count": 94,
      "outputs": [
        {
          "output_type": "stream",
          "name": "stderr",
          "text": [
            "/usr/local/lib/python3.8/dist-packages/statsmodels/tsa/tsatools.py:142: FutureWarning: In a future version of pandas all arguments of concat except for the argument 'objs' will be keyword-only\n",
            "  x = pd.concat(x[::order], 1)\n"
          ]
        }
      ]
    },
    {
      "cell_type": "code",
      "source": [
        "results2_6"
      ],
      "metadata": {
        "colab": {
          "base_uri": "https://localhost:8080/",
          "height": 363
        },
        "id": "GeDihBqaguHX",
        "outputId": "4afb7425-bd07-4109-e254-0a13926546cd"
      },
      "execution_count": 95,
      "outputs": [
        {
          "output_type": "execute_result",
          "data": {
            "text/plain": [
              "                    Coef   p-value\n",
              "neur_all_mean  -2.028174  0.498322\n",
              "extr_all_mean  -0.885136  0.715521\n",
              "open_all_mean   3.410037  0.335068\n",
              "agree_all_mean -1.735515  0.576027\n",
              "cons_all_mean  -1.185830  0.762536\n",
              "neur_all_sd    -3.018123  0.426129\n",
              "extr_all_sd     0.102033  0.975734\n",
              "open_all_sd    -3.071120  0.513069\n",
              "agree_all_sd    1.188872  0.738868\n",
              "cons_all_sd     0.091851  0.984928"
            ],
            "text/html": [
              "\n",
              "  <div id=\"df-6b7f555e-1300-438c-ad7e-ac22f81a8c07\">\n",
              "    <div class=\"colab-df-container\">\n",
              "      <div>\n",
              "<style scoped>\n",
              "    .dataframe tbody tr th:only-of-type {\n",
              "        vertical-align: middle;\n",
              "    }\n",
              "\n",
              "    .dataframe tbody tr th {\n",
              "        vertical-align: top;\n",
              "    }\n",
              "\n",
              "    .dataframe thead th {\n",
              "        text-align: right;\n",
              "    }\n",
              "</style>\n",
              "<table border=\"1\" class=\"dataframe\">\n",
              "  <thead>\n",
              "    <tr style=\"text-align: right;\">\n",
              "      <th></th>\n",
              "      <th>Coef</th>\n",
              "      <th>p-value</th>\n",
              "    </tr>\n",
              "  </thead>\n",
              "  <tbody>\n",
              "    <tr>\n",
              "      <th>neur_all_mean</th>\n",
              "      <td>-2.028174</td>\n",
              "      <td>0.498322</td>\n",
              "    </tr>\n",
              "    <tr>\n",
              "      <th>extr_all_mean</th>\n",
              "      <td>-0.885136</td>\n",
              "      <td>0.715521</td>\n",
              "    </tr>\n",
              "    <tr>\n",
              "      <th>open_all_mean</th>\n",
              "      <td>3.410037</td>\n",
              "      <td>0.335068</td>\n",
              "    </tr>\n",
              "    <tr>\n",
              "      <th>agree_all_mean</th>\n",
              "      <td>-1.735515</td>\n",
              "      <td>0.576027</td>\n",
              "    </tr>\n",
              "    <tr>\n",
              "      <th>cons_all_mean</th>\n",
              "      <td>-1.185830</td>\n",
              "      <td>0.762536</td>\n",
              "    </tr>\n",
              "    <tr>\n",
              "      <th>neur_all_sd</th>\n",
              "      <td>-3.018123</td>\n",
              "      <td>0.426129</td>\n",
              "    </tr>\n",
              "    <tr>\n",
              "      <th>extr_all_sd</th>\n",
              "      <td>0.102033</td>\n",
              "      <td>0.975734</td>\n",
              "    </tr>\n",
              "    <tr>\n",
              "      <th>open_all_sd</th>\n",
              "      <td>-3.071120</td>\n",
              "      <td>0.513069</td>\n",
              "    </tr>\n",
              "    <tr>\n",
              "      <th>agree_all_sd</th>\n",
              "      <td>1.188872</td>\n",
              "      <td>0.738868</td>\n",
              "    </tr>\n",
              "    <tr>\n",
              "      <th>cons_all_sd</th>\n",
              "      <td>0.091851</td>\n",
              "      <td>0.984928</td>\n",
              "    </tr>\n",
              "  </tbody>\n",
              "</table>\n",
              "</div>\n",
              "      <button class=\"colab-df-convert\" onclick=\"convertToInteractive('df-6b7f555e-1300-438c-ad7e-ac22f81a8c07')\"\n",
              "              title=\"Convert this dataframe to an interactive table.\"\n",
              "              style=\"display:none;\">\n",
              "        \n",
              "  <svg xmlns=\"http://www.w3.org/2000/svg\" height=\"24px\"viewBox=\"0 0 24 24\"\n",
              "       width=\"24px\">\n",
              "    <path d=\"M0 0h24v24H0V0z\" fill=\"none\"/>\n",
              "    <path d=\"M18.56 5.44l.94 2.06.94-2.06 2.06-.94-2.06-.94-.94-2.06-.94 2.06-2.06.94zm-11 1L8.5 8.5l.94-2.06 2.06-.94-2.06-.94L8.5 2.5l-.94 2.06-2.06.94zm10 10l.94 2.06.94-2.06 2.06-.94-2.06-.94-.94-2.06-.94 2.06-2.06.94z\"/><path d=\"M17.41 7.96l-1.37-1.37c-.4-.4-.92-.59-1.43-.59-.52 0-1.04.2-1.43.59L10.3 9.45l-7.72 7.72c-.78.78-.78 2.05 0 2.83L4 21.41c.39.39.9.59 1.41.59.51 0 1.02-.2 1.41-.59l7.78-7.78 2.81-2.81c.8-.78.8-2.07 0-2.86zM5.41 20L4 18.59l7.72-7.72 1.47 1.35L5.41 20z\"/>\n",
              "  </svg>\n",
              "      </button>\n",
              "      \n",
              "  <style>\n",
              "    .colab-df-container {\n",
              "      display:flex;\n",
              "      flex-wrap:wrap;\n",
              "      gap: 12px;\n",
              "    }\n",
              "\n",
              "    .colab-df-convert {\n",
              "      background-color: #E8F0FE;\n",
              "      border: none;\n",
              "      border-radius: 50%;\n",
              "      cursor: pointer;\n",
              "      display: none;\n",
              "      fill: #1967D2;\n",
              "      height: 32px;\n",
              "      padding: 0 0 0 0;\n",
              "      width: 32px;\n",
              "    }\n",
              "\n",
              "    .colab-df-convert:hover {\n",
              "      background-color: #E2EBFA;\n",
              "      box-shadow: 0px 1px 2px rgba(60, 64, 67, 0.3), 0px 1px 3px 1px rgba(60, 64, 67, 0.15);\n",
              "      fill: #174EA6;\n",
              "    }\n",
              "\n",
              "    [theme=dark] .colab-df-convert {\n",
              "      background-color: #3B4455;\n",
              "      fill: #D2E3FC;\n",
              "    }\n",
              "\n",
              "    [theme=dark] .colab-df-convert:hover {\n",
              "      background-color: #434B5C;\n",
              "      box-shadow: 0px 1px 3px 1px rgba(0, 0, 0, 0.15);\n",
              "      filter: drop-shadow(0px 1px 2px rgba(0, 0, 0, 0.3));\n",
              "      fill: #FFFFFF;\n",
              "    }\n",
              "  </style>\n",
              "\n",
              "      <script>\n",
              "        const buttonEl =\n",
              "          document.querySelector('#df-6b7f555e-1300-438c-ad7e-ac22f81a8c07 button.colab-df-convert');\n",
              "        buttonEl.style.display =\n",
              "          google.colab.kernel.accessAllowed ? 'block' : 'none';\n",
              "\n",
              "        async function convertToInteractive(key) {\n",
              "          const element = document.querySelector('#df-6b7f555e-1300-438c-ad7e-ac22f81a8c07');\n",
              "          const dataTable =\n",
              "            await google.colab.kernel.invokeFunction('convertToInteractive',\n",
              "                                                     [key], {});\n",
              "          if (!dataTable) return;\n",
              "\n",
              "          const docLinkHtml = 'Like what you see? Visit the ' +\n",
              "            '<a target=\"_blank\" href=https://colab.research.google.com/notebooks/data_table.ipynb>data table notebook</a>'\n",
              "            + ' to learn more about interactive tables.';\n",
              "          element.innerHTML = '';\n",
              "          dataTable['output_type'] = 'display_data';\n",
              "          await google.colab.output.renderOutput(dataTable, element);\n",
              "          const docLink = document.createElement('div');\n",
              "          docLink.innerHTML = docLinkHtml;\n",
              "          element.appendChild(docLink);\n",
              "        }\n",
              "      </script>\n",
              "    </div>\n",
              "  </div>\n",
              "  "
            ]
          },
          "metadata": {},
          "execution_count": 95
        }
      ]
    },
    {
      "cell_type": "markdown",
      "source": [
        "Results:\n",
        "\n",
        "* No significant results"
      ],
      "metadata": {
        "id": "-OJnT7XJgwqb"
      }
    },
    {
      "cell_type": "markdown",
      "source": [
        "#### Including all means, variance, min and max"
      ],
      "metadata": {
        "id": "067D5KLtgzyl"
      }
    },
    {
      "cell_type": "code",
      "source": [
        "#define response variable\n",
        "y = dat2['performance']\n",
        "#define predictor variables\n",
        "x=dat2[dat2.columns[1:21]]\n",
        "#add constant to predictor variables\n",
        "x = sm.add_constant(x)\n",
        "#fit linear regression model\n",
        "model = sm.OLS(y, x).fit()\n",
        "results2_7 = pd.DataFrame({'Coef':model.params[1:21],'p-value':model.pvalues[1:21]})"
      ],
      "metadata": {
        "colab": {
          "base_uri": "https://localhost:8080/"
        },
        "id": "MRjcO6Avg5X4",
        "outputId": "60fedcea-d031-4bd3-cdea-41ff93b2c119"
      },
      "execution_count": 96,
      "outputs": [
        {
          "output_type": "stream",
          "name": "stderr",
          "text": [
            "/usr/local/lib/python3.8/dist-packages/statsmodels/tsa/tsatools.py:142: FutureWarning: In a future version of pandas all arguments of concat except for the argument 'objs' will be keyword-only\n",
            "  x = pd.concat(x[::order], 1)\n"
          ]
        }
      ]
    },
    {
      "cell_type": "code",
      "source": [
        "results2_7"
      ],
      "metadata": {
        "colab": {
          "base_uri": "https://localhost:8080/",
          "height": 676
        },
        "id": "qLRVYIwfh4Mi",
        "outputId": "1100bac0-085d-40ab-cb53-b36a842aba63"
      },
      "execution_count": 97,
      "outputs": [
        {
          "output_type": "execute_result",
          "data": {
            "text/plain": [
              "                     Coef   p-value\n",
              "neur_all_mean   -9.272868  0.095912\n",
              "extr_all_mean   -3.066477  0.524535\n",
              "open_all_mean   -4.803091  0.562022\n",
              "agree_all_mean   0.081264  0.989027\n",
              "cons_all_mean   -5.753458  0.389606\n",
              "neur_all_sd    -10.188686  0.459536\n",
              "extr_all_sd     12.104275  0.357539\n",
              "open_all_sd    -43.931347  0.019209\n",
              "agree_all_sd    -8.099360  0.525337\n",
              "cons_all_sd      3.991949  0.794544\n",
              "neur_all_min     4.399084  0.495286\n",
              "extr_all_min     6.862055  0.267912\n",
              "open_all_min   -11.382121  0.157419\n",
              "agree_all_min   -6.115876  0.310513\n",
              "cons_all_min     3.960546  0.544481\n",
              "neur_all_max     6.508137  0.286317\n",
              "extr_all_max    -4.138384  0.512919\n",
              "open_all_max    23.606448  0.008811\n",
              "agree_all_max    3.337075  0.587169\n",
              "cons_all_max     0.499243  0.944844"
            ],
            "text/html": [
              "\n",
              "  <div id=\"df-fe4d1a14-046d-415a-b431-c05764ac3509\">\n",
              "    <div class=\"colab-df-container\">\n",
              "      <div>\n",
              "<style scoped>\n",
              "    .dataframe tbody tr th:only-of-type {\n",
              "        vertical-align: middle;\n",
              "    }\n",
              "\n",
              "    .dataframe tbody tr th {\n",
              "        vertical-align: top;\n",
              "    }\n",
              "\n",
              "    .dataframe thead th {\n",
              "        text-align: right;\n",
              "    }\n",
              "</style>\n",
              "<table border=\"1\" class=\"dataframe\">\n",
              "  <thead>\n",
              "    <tr style=\"text-align: right;\">\n",
              "      <th></th>\n",
              "      <th>Coef</th>\n",
              "      <th>p-value</th>\n",
              "    </tr>\n",
              "  </thead>\n",
              "  <tbody>\n",
              "    <tr>\n",
              "      <th>neur_all_mean</th>\n",
              "      <td>-9.272868</td>\n",
              "      <td>0.095912</td>\n",
              "    </tr>\n",
              "    <tr>\n",
              "      <th>extr_all_mean</th>\n",
              "      <td>-3.066477</td>\n",
              "      <td>0.524535</td>\n",
              "    </tr>\n",
              "    <tr>\n",
              "      <th>open_all_mean</th>\n",
              "      <td>-4.803091</td>\n",
              "      <td>0.562022</td>\n",
              "    </tr>\n",
              "    <tr>\n",
              "      <th>agree_all_mean</th>\n",
              "      <td>0.081264</td>\n",
              "      <td>0.989027</td>\n",
              "    </tr>\n",
              "    <tr>\n",
              "      <th>cons_all_mean</th>\n",
              "      <td>-5.753458</td>\n",
              "      <td>0.389606</td>\n",
              "    </tr>\n",
              "    <tr>\n",
              "      <th>neur_all_sd</th>\n",
              "      <td>-10.188686</td>\n",
              "      <td>0.459536</td>\n",
              "    </tr>\n",
              "    <tr>\n",
              "      <th>extr_all_sd</th>\n",
              "      <td>12.104275</td>\n",
              "      <td>0.357539</td>\n",
              "    </tr>\n",
              "    <tr>\n",
              "      <th>open_all_sd</th>\n",
              "      <td>-43.931347</td>\n",
              "      <td>0.019209</td>\n",
              "    </tr>\n",
              "    <tr>\n",
              "      <th>agree_all_sd</th>\n",
              "      <td>-8.099360</td>\n",
              "      <td>0.525337</td>\n",
              "    </tr>\n",
              "    <tr>\n",
              "      <th>cons_all_sd</th>\n",
              "      <td>3.991949</td>\n",
              "      <td>0.794544</td>\n",
              "    </tr>\n",
              "    <tr>\n",
              "      <th>neur_all_min</th>\n",
              "      <td>4.399084</td>\n",
              "      <td>0.495286</td>\n",
              "    </tr>\n",
              "    <tr>\n",
              "      <th>extr_all_min</th>\n",
              "      <td>6.862055</td>\n",
              "      <td>0.267912</td>\n",
              "    </tr>\n",
              "    <tr>\n",
              "      <th>open_all_min</th>\n",
              "      <td>-11.382121</td>\n",
              "      <td>0.157419</td>\n",
              "    </tr>\n",
              "    <tr>\n",
              "      <th>agree_all_min</th>\n",
              "      <td>-6.115876</td>\n",
              "      <td>0.310513</td>\n",
              "    </tr>\n",
              "    <tr>\n",
              "      <th>cons_all_min</th>\n",
              "      <td>3.960546</td>\n",
              "      <td>0.544481</td>\n",
              "    </tr>\n",
              "    <tr>\n",
              "      <th>neur_all_max</th>\n",
              "      <td>6.508137</td>\n",
              "      <td>0.286317</td>\n",
              "    </tr>\n",
              "    <tr>\n",
              "      <th>extr_all_max</th>\n",
              "      <td>-4.138384</td>\n",
              "      <td>0.512919</td>\n",
              "    </tr>\n",
              "    <tr>\n",
              "      <th>open_all_max</th>\n",
              "      <td>23.606448</td>\n",
              "      <td>0.008811</td>\n",
              "    </tr>\n",
              "    <tr>\n",
              "      <th>agree_all_max</th>\n",
              "      <td>3.337075</td>\n",
              "      <td>0.587169</td>\n",
              "    </tr>\n",
              "    <tr>\n",
              "      <th>cons_all_max</th>\n",
              "      <td>0.499243</td>\n",
              "      <td>0.944844</td>\n",
              "    </tr>\n",
              "  </tbody>\n",
              "</table>\n",
              "</div>\n",
              "      <button class=\"colab-df-convert\" onclick=\"convertToInteractive('df-fe4d1a14-046d-415a-b431-c05764ac3509')\"\n",
              "              title=\"Convert this dataframe to an interactive table.\"\n",
              "              style=\"display:none;\">\n",
              "        \n",
              "  <svg xmlns=\"http://www.w3.org/2000/svg\" height=\"24px\"viewBox=\"0 0 24 24\"\n",
              "       width=\"24px\">\n",
              "    <path d=\"M0 0h24v24H0V0z\" fill=\"none\"/>\n",
              "    <path d=\"M18.56 5.44l.94 2.06.94-2.06 2.06-.94-2.06-.94-.94-2.06-.94 2.06-2.06.94zm-11 1L8.5 8.5l.94-2.06 2.06-.94-2.06-.94L8.5 2.5l-.94 2.06-2.06.94zm10 10l.94 2.06.94-2.06 2.06-.94-2.06-.94-.94-2.06-.94 2.06-2.06.94z\"/><path d=\"M17.41 7.96l-1.37-1.37c-.4-.4-.92-.59-1.43-.59-.52 0-1.04.2-1.43.59L10.3 9.45l-7.72 7.72c-.78.78-.78 2.05 0 2.83L4 21.41c.39.39.9.59 1.41.59.51 0 1.02-.2 1.41-.59l7.78-7.78 2.81-2.81c.8-.78.8-2.07 0-2.86zM5.41 20L4 18.59l7.72-7.72 1.47 1.35L5.41 20z\"/>\n",
              "  </svg>\n",
              "      </button>\n",
              "      \n",
              "  <style>\n",
              "    .colab-df-container {\n",
              "      display:flex;\n",
              "      flex-wrap:wrap;\n",
              "      gap: 12px;\n",
              "    }\n",
              "\n",
              "    .colab-df-convert {\n",
              "      background-color: #E8F0FE;\n",
              "      border: none;\n",
              "      border-radius: 50%;\n",
              "      cursor: pointer;\n",
              "      display: none;\n",
              "      fill: #1967D2;\n",
              "      height: 32px;\n",
              "      padding: 0 0 0 0;\n",
              "      width: 32px;\n",
              "    }\n",
              "\n",
              "    .colab-df-convert:hover {\n",
              "      background-color: #E2EBFA;\n",
              "      box-shadow: 0px 1px 2px rgba(60, 64, 67, 0.3), 0px 1px 3px 1px rgba(60, 64, 67, 0.15);\n",
              "      fill: #174EA6;\n",
              "    }\n",
              "\n",
              "    [theme=dark] .colab-df-convert {\n",
              "      background-color: #3B4455;\n",
              "      fill: #D2E3FC;\n",
              "    }\n",
              "\n",
              "    [theme=dark] .colab-df-convert:hover {\n",
              "      background-color: #434B5C;\n",
              "      box-shadow: 0px 1px 3px 1px rgba(0, 0, 0, 0.15);\n",
              "      filter: drop-shadow(0px 1px 2px rgba(0, 0, 0, 0.3));\n",
              "      fill: #FFFFFF;\n",
              "    }\n",
              "  </style>\n",
              "\n",
              "      <script>\n",
              "        const buttonEl =\n",
              "          document.querySelector('#df-fe4d1a14-046d-415a-b431-c05764ac3509 button.colab-df-convert');\n",
              "        buttonEl.style.display =\n",
              "          google.colab.kernel.accessAllowed ? 'block' : 'none';\n",
              "\n",
              "        async function convertToInteractive(key) {\n",
              "          const element = document.querySelector('#df-fe4d1a14-046d-415a-b431-c05764ac3509');\n",
              "          const dataTable =\n",
              "            await google.colab.kernel.invokeFunction('convertToInteractive',\n",
              "                                                     [key], {});\n",
              "          if (!dataTable) return;\n",
              "\n",
              "          const docLinkHtml = 'Like what you see? Visit the ' +\n",
              "            '<a target=\"_blank\" href=https://colab.research.google.com/notebooks/data_table.ipynb>data table notebook</a>'\n",
              "            + ' to learn more about interactive tables.';\n",
              "          element.innerHTML = '';\n",
              "          dataTable['output_type'] = 'display_data';\n",
              "          await google.colab.output.renderOutput(dataTable, element);\n",
              "          const docLink = document.createElement('div');\n",
              "          docLink.innerHTML = docLinkHtml;\n",
              "          element.appendChild(docLink);\n",
              "        }\n",
              "      </script>\n",
              "    </div>\n",
              "  </div>\n",
              "  "
            ]
          },
          "metadata": {},
          "execution_count": 97
        }
      ]
    },
    {
      "cell_type": "markdown",
      "source": [
        "Results:\n",
        "\n",
        "* Mean of Neuroticism: negative correlation, significant at 10% (p-value=0.096).\n",
        "* Variance of Openness to experience: negative correlation, significant at 5% (p-value=0.02).\n",
        "* Max of Openness to experience: positive correlation, significant at 1% (p-value=0.009)."
      ],
      "metadata": {
        "id": "RHzEXDFQiWqZ"
      }
    },
    {
      "cell_type": "markdown",
      "source": [
        "# Algorithm-Supported Induction - Only Using Data 1"
      ],
      "metadata": {
        "id": "2xfElUiBj-8q"
      }
    },
    {
      "cell_type": "markdown",
      "source": [
        "## Stage 0: Understanding variables"
      ],
      "metadata": {
        "id": "RipFaUHptGgA"
      }
    }
  ]
}